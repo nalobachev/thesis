{
  "nbformat": 4,
  "nbformat_minor": 0,
  "metadata": {
    "colab": {
      "name": "data_cleaning.ipynb",
      "provenance": []
    },
    "kernelspec": {
      "name": "python3",
      "display_name": "Python 3"
    },
    "language_info": {
      "name": "python"
    }
  },
  "cells": [
    {
      "cell_type": "code",
      "source": [
        "from google.colab import drive\n",
        "drive.mount('/content/drive')"
      ],
      "metadata": {
        "colab": {
          "base_uri": "https://localhost:8080/"
        },
        "id": "QzMaN_hxmjm0",
        "outputId": "4199b6e2-6e2d-43f4-c01b-10bbbe83dfd6"
      },
      "execution_count": 1,
      "outputs": [
        {
          "output_type": "stream",
          "name": "stdout",
          "text": [
            "Mounted at /content/drive\n"
          ]
        }
      ]
    },
    {
      "cell_type": "code",
      "source": [
        "import pandas as pd\n",
        "from pandas.api.types import is_numeric_dtype\n",
        "import os"
      ],
      "metadata": {
        "id": "Uu1fYD5ZrF20"
      },
      "execution_count": 58,
      "outputs": []
    },
    {
      "cell_type": "code",
      "source": [
        "!unzip /content/drive/MyDrive/collections2.zip"
      ],
      "metadata": {
        "id": "ohRL4klZmo5a"
      },
      "execution_count": null,
      "outputs": []
    },
    {
      "cell_type": "code",
      "source": [
        "def clean_csv(name):\n",
        "    collection = f\"collections/{name}\"\n",
        "    image_names = []\n",
        "    for file in os.listdir(collection):\n",
        "        filename = os.fsdecode(file)\n",
        "        image_names.append(os.path.splitext(filename)[0])\n",
        "\n",
        "    df = pd.read_csv(f\"/content/drive/MyDrive/csvs/{name}.csv\", index_col=0)\n",
        "    df = df[df['price'] > 0]\n",
        "    if is_numeric_dtype(df['name']):\n",
        "        df.dropna(inplace=True)\n",
        "        df['name'] = df.name.apply(int).apply(str)\n",
        "        df = df[df.name.isin(image_names)]\n",
        "        df['collection'] = df.shape[0]*[f\"{name}\"]\n",
        "        df.to_csv(f\"/content/drive/MyDrive/cleaned_csvs/{name}.csv\")\n",
        "        return\n",
        "    df = df[df.name.isin(image_names)]\n",
        "    df['collection'] = df.shape[0]*[f\"{name}\"]\n",
        "    df.to_csv(f\"/content/drive/MyDrive/cleaned_csvs/{name}.csv\")\n",
        "\n",
        "\n"
      ],
      "metadata": {
        "id": "t8cG9MDnqsSC"
      },
      "execution_count": 80,
      "outputs": []
    },
    {
      "cell_type": "code",
      "source": [
        "for rep in os.listdir(\"collections\"):\n",
        "    if rep != \".DS_Store\":\n",
        "        clean_csv(rep)"
      ],
      "metadata": {
        "id": "uMRmITTysyp3"
      },
      "execution_count": 81,
      "outputs": []
    }
  ]
}