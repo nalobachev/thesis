{
  "nbformat": 4,
  "nbformat_minor": 0,
  "metadata": {
    "colab": {
      "name": "feature_extraction_and_methods.ipynb",
      "provenance": []
    },
    "kernelspec": {
      "name": "python3",
      "display_name": "Python 3"
    },
    "language_info": {
      "name": "python"
    },
    "accelerator": "GPU",
    "widgets": {
      "application/vnd.jupyter.widget-state+json": {
        "0b2821d922a847879b07b7817a02244b": {
          "model_module": "@jupyter-widgets/controls",
          "model_name": "HBoxModel",
          "model_module_version": "1.5.0",
          "state": {
            "_dom_classes": [],
            "_model_module": "@jupyter-widgets/controls",
            "_model_module_version": "1.5.0",
            "_model_name": "HBoxModel",
            "_view_count": null,
            "_view_module": "@jupyter-widgets/controls",
            "_view_module_version": "1.5.0",
            "_view_name": "HBoxView",
            "box_style": "",
            "children": [
              "IPY_MODEL_3e5cf6626fbf4fd5abaea44a237e9cc6",
              "IPY_MODEL_313d1503eabf453c8e47741a5c25a039",
              "IPY_MODEL_6f804f83f7874990b110829f64e72c96"
            ],
            "layout": "IPY_MODEL_45708c10cbca4cbfbcb834796005b2a7"
          }
        },
        "3e5cf6626fbf4fd5abaea44a237e9cc6": {
          "model_module": "@jupyter-widgets/controls",
          "model_name": "HTMLModel",
          "model_module_version": "1.5.0",
          "state": {
            "_dom_classes": [],
            "_model_module": "@jupyter-widgets/controls",
            "_model_module_version": "1.5.0",
            "_model_name": "HTMLModel",
            "_view_count": null,
            "_view_module": "@jupyter-widgets/controls",
            "_view_module_version": "1.5.0",
            "_view_name": "HTMLView",
            "description": "",
            "description_tooltip": null,
            "layout": "IPY_MODEL_aae47165c3ac47f39ce418241a2f0b37",
            "placeholder": "​",
            "style": "IPY_MODEL_c0f309136f13437487b8d7b7893acc79",
            "value": "100%"
          }
        },
        "313d1503eabf453c8e47741a5c25a039": {
          "model_module": "@jupyter-widgets/controls",
          "model_name": "FloatProgressModel",
          "model_module_version": "1.5.0",
          "state": {
            "_dom_classes": [],
            "_model_module": "@jupyter-widgets/controls",
            "_model_module_version": "1.5.0",
            "_model_name": "FloatProgressModel",
            "_view_count": null,
            "_view_module": "@jupyter-widgets/controls",
            "_view_module_version": "1.5.0",
            "_view_name": "ProgressView",
            "bar_style": "success",
            "description": "",
            "description_tooltip": null,
            "layout": "IPY_MODEL_97f8525cc4e645f7a06e7115de11c2c2",
            "max": 46830571,
            "min": 0,
            "orientation": "horizontal",
            "style": "IPY_MODEL_325398674aec455eb0be5ea5e7a70f0c",
            "value": 46830571
          }
        },
        "6f804f83f7874990b110829f64e72c96": {
          "model_module": "@jupyter-widgets/controls",
          "model_name": "HTMLModel",
          "model_module_version": "1.5.0",
          "state": {
            "_dom_classes": [],
            "_model_module": "@jupyter-widgets/controls",
            "_model_module_version": "1.5.0",
            "_model_name": "HTMLModel",
            "_view_count": null,
            "_view_module": "@jupyter-widgets/controls",
            "_view_module_version": "1.5.0",
            "_view_name": "HTMLView",
            "description": "",
            "description_tooltip": null,
            "layout": "IPY_MODEL_8aee7a4dcc45444c9be46e3b6a5f6432",
            "placeholder": "​",
            "style": "IPY_MODEL_99ac307c85c64e5383d7417949de642c",
            "value": " 44.7M/44.7M [00:00&lt;00:00, 57.6MB/s]"
          }
        },
        "45708c10cbca4cbfbcb834796005b2a7": {
          "model_module": "@jupyter-widgets/base",
          "model_name": "LayoutModel",
          "model_module_version": "1.2.0",
          "state": {
            "_model_module": "@jupyter-widgets/base",
            "_model_module_version": "1.2.0",
            "_model_name": "LayoutModel",
            "_view_count": null,
            "_view_module": "@jupyter-widgets/base",
            "_view_module_version": "1.2.0",
            "_view_name": "LayoutView",
            "align_content": null,
            "align_items": null,
            "align_self": null,
            "border": null,
            "bottom": null,
            "display": null,
            "flex": null,
            "flex_flow": null,
            "grid_area": null,
            "grid_auto_columns": null,
            "grid_auto_flow": null,
            "grid_auto_rows": null,
            "grid_column": null,
            "grid_gap": null,
            "grid_row": null,
            "grid_template_areas": null,
            "grid_template_columns": null,
            "grid_template_rows": null,
            "height": null,
            "justify_content": null,
            "justify_items": null,
            "left": null,
            "margin": null,
            "max_height": null,
            "max_width": null,
            "min_height": null,
            "min_width": null,
            "object_fit": null,
            "object_position": null,
            "order": null,
            "overflow": null,
            "overflow_x": null,
            "overflow_y": null,
            "padding": null,
            "right": null,
            "top": null,
            "visibility": null,
            "width": null
          }
        },
        "aae47165c3ac47f39ce418241a2f0b37": {
          "model_module": "@jupyter-widgets/base",
          "model_name": "LayoutModel",
          "model_module_version": "1.2.0",
          "state": {
            "_model_module": "@jupyter-widgets/base",
            "_model_module_version": "1.2.0",
            "_model_name": "LayoutModel",
            "_view_count": null,
            "_view_module": "@jupyter-widgets/base",
            "_view_module_version": "1.2.0",
            "_view_name": "LayoutView",
            "align_content": null,
            "align_items": null,
            "align_self": null,
            "border": null,
            "bottom": null,
            "display": null,
            "flex": null,
            "flex_flow": null,
            "grid_area": null,
            "grid_auto_columns": null,
            "grid_auto_flow": null,
            "grid_auto_rows": null,
            "grid_column": null,
            "grid_gap": null,
            "grid_row": null,
            "grid_template_areas": null,
            "grid_template_columns": null,
            "grid_template_rows": null,
            "height": null,
            "justify_content": null,
            "justify_items": null,
            "left": null,
            "margin": null,
            "max_height": null,
            "max_width": null,
            "min_height": null,
            "min_width": null,
            "object_fit": null,
            "object_position": null,
            "order": null,
            "overflow": null,
            "overflow_x": null,
            "overflow_y": null,
            "padding": null,
            "right": null,
            "top": null,
            "visibility": null,
            "width": null
          }
        },
        "c0f309136f13437487b8d7b7893acc79": {
          "model_module": "@jupyter-widgets/controls",
          "model_name": "DescriptionStyleModel",
          "model_module_version": "1.5.0",
          "state": {
            "_model_module": "@jupyter-widgets/controls",
            "_model_module_version": "1.5.0",
            "_model_name": "DescriptionStyleModel",
            "_view_count": null,
            "_view_module": "@jupyter-widgets/base",
            "_view_module_version": "1.2.0",
            "_view_name": "StyleView",
            "description_width": ""
          }
        },
        "97f8525cc4e645f7a06e7115de11c2c2": {
          "model_module": "@jupyter-widgets/base",
          "model_name": "LayoutModel",
          "model_module_version": "1.2.0",
          "state": {
            "_model_module": "@jupyter-widgets/base",
            "_model_module_version": "1.2.0",
            "_model_name": "LayoutModel",
            "_view_count": null,
            "_view_module": "@jupyter-widgets/base",
            "_view_module_version": "1.2.0",
            "_view_name": "LayoutView",
            "align_content": null,
            "align_items": null,
            "align_self": null,
            "border": null,
            "bottom": null,
            "display": null,
            "flex": null,
            "flex_flow": null,
            "grid_area": null,
            "grid_auto_columns": null,
            "grid_auto_flow": null,
            "grid_auto_rows": null,
            "grid_column": null,
            "grid_gap": null,
            "grid_row": null,
            "grid_template_areas": null,
            "grid_template_columns": null,
            "grid_template_rows": null,
            "height": null,
            "justify_content": null,
            "justify_items": null,
            "left": null,
            "margin": null,
            "max_height": null,
            "max_width": null,
            "min_height": null,
            "min_width": null,
            "object_fit": null,
            "object_position": null,
            "order": null,
            "overflow": null,
            "overflow_x": null,
            "overflow_y": null,
            "padding": null,
            "right": null,
            "top": null,
            "visibility": null,
            "width": null
          }
        },
        "325398674aec455eb0be5ea5e7a70f0c": {
          "model_module": "@jupyter-widgets/controls",
          "model_name": "ProgressStyleModel",
          "model_module_version": "1.5.0",
          "state": {
            "_model_module": "@jupyter-widgets/controls",
            "_model_module_version": "1.5.0",
            "_model_name": "ProgressStyleModel",
            "_view_count": null,
            "_view_module": "@jupyter-widgets/base",
            "_view_module_version": "1.2.0",
            "_view_name": "StyleView",
            "bar_color": null,
            "description_width": ""
          }
        },
        "8aee7a4dcc45444c9be46e3b6a5f6432": {
          "model_module": "@jupyter-widgets/base",
          "model_name": "LayoutModel",
          "model_module_version": "1.2.0",
          "state": {
            "_model_module": "@jupyter-widgets/base",
            "_model_module_version": "1.2.0",
            "_model_name": "LayoutModel",
            "_view_count": null,
            "_view_module": "@jupyter-widgets/base",
            "_view_module_version": "1.2.0",
            "_view_name": "LayoutView",
            "align_content": null,
            "align_items": null,
            "align_self": null,
            "border": null,
            "bottom": null,
            "display": null,
            "flex": null,
            "flex_flow": null,
            "grid_area": null,
            "grid_auto_columns": null,
            "grid_auto_flow": null,
            "grid_auto_rows": null,
            "grid_column": null,
            "grid_gap": null,
            "grid_row": null,
            "grid_template_areas": null,
            "grid_template_columns": null,
            "grid_template_rows": null,
            "height": null,
            "justify_content": null,
            "justify_items": null,
            "left": null,
            "margin": null,
            "max_height": null,
            "max_width": null,
            "min_height": null,
            "min_width": null,
            "object_fit": null,
            "object_position": null,
            "order": null,
            "overflow": null,
            "overflow_x": null,
            "overflow_y": null,
            "padding": null,
            "right": null,
            "top": null,
            "visibility": null,
            "width": null
          }
        },
        "99ac307c85c64e5383d7417949de642c": {
          "model_module": "@jupyter-widgets/controls",
          "model_name": "DescriptionStyleModel",
          "model_module_version": "1.5.0",
          "state": {
            "_model_module": "@jupyter-widgets/controls",
            "_model_module_version": "1.5.0",
            "_model_name": "DescriptionStyleModel",
            "_view_count": null,
            "_view_module": "@jupyter-widgets/base",
            "_view_module_version": "1.2.0",
            "_view_name": "StyleView",
            "description_width": ""
          }
        }
      }
    }
  },
  "cells": [
    {
      "cell_type": "code",
      "source": [
        "from google.colab import drive\n",
        "drive.mount('/content/drive')"
      ],
      "metadata": {
        "colab": {
          "base_uri": "https://localhost:8080/"
        },
        "id": "DBf7ajhjRy1v",
        "outputId": "5012e67a-f50d-4d45-f1bc-5d567b92e43f"
      },
      "execution_count": null,
      "outputs": [
        {
          "output_type": "stream",
          "name": "stdout",
          "text": [
            "Mounted at /content/drive\n"
          ]
        }
      ]
    },
    {
      "cell_type": "code",
      "source": [
        "!unzip /content/drive/MyDrive/collections2.zip"
      ],
      "metadata": {
        "id": "PrQIt76HOXSs"
      },
      "execution_count": null,
      "outputs": []
    },
    {
      "cell_type": "code",
      "source": [
        "!find . -name '.DS_Store' -type f -delete"
      ],
      "metadata": {
        "id": "AUydyIaoPyy1"
      },
      "execution_count": null,
      "outputs": []
    },
    {
      "cell_type": "code",
      "execution_count": null,
      "metadata": {
        "id": "gTXCbaRCJKsN"
      },
      "outputs": [],
      "source": [
        "import pandas as pd\n",
        "import os\n",
        "import numpy as np\n",
        "\n",
        "import os\n",
        "import matplotlib.pyplot as plt\n",
        "import skimage\n",
        "import re\n",
        "import numpy as np\n",
        "import cv2\n",
        "from skimage import io\n",
        "from IPython.display import clear_output\n",
        "\n",
        "from torch.utils.data import DataLoader, Dataset\n",
        "from torchvision import transforms, utils\n",
        "import torch\n",
        "import torchvision\n",
        "import torchvision.models as models\n",
        "import torch.nn as nn\n",
        "import torch.optim as optim"
      ]
    },
    {
      "cell_type": "code",
      "source": [
        "whole = pd.read_csv(\"/content/drive/MyDrive/whole_dataset.csv\", index_col=0)\n",
        "whole['full_name'] = whole['collection']+'/'+whole['name']\n",
        "whole = whole.sort_values(by=['collection', 'name'])"
      ],
      "metadata": {
        "id": "W_sg9M-2JR0f"
      },
      "execution_count": null,
      "outputs": []
    },
    {
      "cell_type": "code",
      "source": [
        "for x in ['price']:\n",
        "    q75,q25 = np.percentile(whole.loc[:,x],[75,25])\n",
        "    intr_qr = q75-q25\n",
        " \n",
        "    max = q75+(1.5*intr_qr)\n",
        "    min = q25-(1.5*intr_qr)\n",
        " \n",
        "    whole.loc[whole[x] < min,x] = np.nan\n",
        "    whole.loc[whole[x] > max,x] = np.nan"
      ],
      "metadata": {
        "id": "MESOaqBjKJ8t"
      },
      "execution_count": null,
      "outputs": []
    },
    {
      "cell_type": "code",
      "source": [
        "whole.isnull().sum()"
      ],
      "metadata": {
        "colab": {
          "base_uri": "https://localhost:8080/"
        },
        "id": "vdLDvhVRKpeV",
        "outputId": "b79e6536-c527-4fcb-f86f-71cc1c54dd9d"
      },
      "execution_count": null,
      "outputs": [
        {
          "output_type": "execute_result",
          "data": {
            "text/plain": [
              "name              0\n",
              "price         10317\n",
              "collection        0\n",
              "label             0\n",
              "full_name         0\n",
              "dtype: int64"
            ]
          },
          "metadata": {},
          "execution_count": 45
        }
      ]
    },
    {
      "cell_type": "code",
      "source": [
        "whole.dropna(inplace=True)"
      ],
      "metadata": {
        "id": "JfUjFJ2JK2H0"
      },
      "execution_count": null,
      "outputs": []
    },
    {
      "cell_type": "code",
      "source": [
        "whole.describe().apply(lambda s: s.apply(lambda x: format(x, 'g')))"
      ],
      "metadata": {
        "colab": {
          "base_uri": "https://localhost:8080/",
          "height": 297
        },
        "id": "DJ6236xSK56g",
        "outputId": "91e77e6d-30bb-4202-e2af-5bffbd9e4a9d"
      },
      "execution_count": null,
      "outputs": [
        {
          "output_type": "execute_result",
          "data": {
            "text/plain": [
              "         price    label\n",
              "count    88770    88770\n",
              "mean   9241.47  1.76696\n",
              "std    11572.7  1.30902\n",
              "min          1        0\n",
              "25%       1224        1\n",
              "50%       4049        2\n",
              "75%      13000        3\n",
              "max      48340        4"
            ],
            "text/html": [
              "\n",
              "  <div id=\"df-19b60f9d-2d70-4568-a0cb-6cc49c5916c6\">\n",
              "    <div class=\"colab-df-container\">\n",
              "      <div>\n",
              "<style scoped>\n",
              "    .dataframe tbody tr th:only-of-type {\n",
              "        vertical-align: middle;\n",
              "    }\n",
              "\n",
              "    .dataframe tbody tr th {\n",
              "        vertical-align: top;\n",
              "    }\n",
              "\n",
              "    .dataframe thead th {\n",
              "        text-align: right;\n",
              "    }\n",
              "</style>\n",
              "<table border=\"1\" class=\"dataframe\">\n",
              "  <thead>\n",
              "    <tr style=\"text-align: right;\">\n",
              "      <th></th>\n",
              "      <th>price</th>\n",
              "      <th>label</th>\n",
              "    </tr>\n",
              "  </thead>\n",
              "  <tbody>\n",
              "    <tr>\n",
              "      <th>count</th>\n",
              "      <td>88770</td>\n",
              "      <td>88770</td>\n",
              "    </tr>\n",
              "    <tr>\n",
              "      <th>mean</th>\n",
              "      <td>9241.47</td>\n",
              "      <td>1.76696</td>\n",
              "    </tr>\n",
              "    <tr>\n",
              "      <th>std</th>\n",
              "      <td>11572.7</td>\n",
              "      <td>1.30902</td>\n",
              "    </tr>\n",
              "    <tr>\n",
              "      <th>min</th>\n",
              "      <td>1</td>\n",
              "      <td>0</td>\n",
              "    </tr>\n",
              "    <tr>\n",
              "      <th>25%</th>\n",
              "      <td>1224</td>\n",
              "      <td>1</td>\n",
              "    </tr>\n",
              "    <tr>\n",
              "      <th>50%</th>\n",
              "      <td>4049</td>\n",
              "      <td>2</td>\n",
              "    </tr>\n",
              "    <tr>\n",
              "      <th>75%</th>\n",
              "      <td>13000</td>\n",
              "      <td>3</td>\n",
              "    </tr>\n",
              "    <tr>\n",
              "      <th>max</th>\n",
              "      <td>48340</td>\n",
              "      <td>4</td>\n",
              "    </tr>\n",
              "  </tbody>\n",
              "</table>\n",
              "</div>\n",
              "      <button class=\"colab-df-convert\" onclick=\"convertToInteractive('df-19b60f9d-2d70-4568-a0cb-6cc49c5916c6')\"\n",
              "              title=\"Convert this dataframe to an interactive table.\"\n",
              "              style=\"display:none;\">\n",
              "        \n",
              "  <svg xmlns=\"http://www.w3.org/2000/svg\" height=\"24px\"viewBox=\"0 0 24 24\"\n",
              "       width=\"24px\">\n",
              "    <path d=\"M0 0h24v24H0V0z\" fill=\"none\"/>\n",
              "    <path d=\"M18.56 5.44l.94 2.06.94-2.06 2.06-.94-2.06-.94-.94-2.06-.94 2.06-2.06.94zm-11 1L8.5 8.5l.94-2.06 2.06-.94-2.06-.94L8.5 2.5l-.94 2.06-2.06.94zm10 10l.94 2.06.94-2.06 2.06-.94-2.06-.94-.94-2.06-.94 2.06-2.06.94z\"/><path d=\"M17.41 7.96l-1.37-1.37c-.4-.4-.92-.59-1.43-.59-.52 0-1.04.2-1.43.59L10.3 9.45l-7.72 7.72c-.78.78-.78 2.05 0 2.83L4 21.41c.39.39.9.59 1.41.59.51 0 1.02-.2 1.41-.59l7.78-7.78 2.81-2.81c.8-.78.8-2.07 0-2.86zM5.41 20L4 18.59l7.72-7.72 1.47 1.35L5.41 20z\"/>\n",
              "  </svg>\n",
              "      </button>\n",
              "      \n",
              "  <style>\n",
              "    .colab-df-container {\n",
              "      display:flex;\n",
              "      flex-wrap:wrap;\n",
              "      gap: 12px;\n",
              "    }\n",
              "\n",
              "    .colab-df-convert {\n",
              "      background-color: #E8F0FE;\n",
              "      border: none;\n",
              "      border-radius: 50%;\n",
              "      cursor: pointer;\n",
              "      display: none;\n",
              "      fill: #1967D2;\n",
              "      height: 32px;\n",
              "      padding: 0 0 0 0;\n",
              "      width: 32px;\n",
              "    }\n",
              "\n",
              "    .colab-df-convert:hover {\n",
              "      background-color: #E2EBFA;\n",
              "      box-shadow: 0px 1px 2px rgba(60, 64, 67, 0.3), 0px 1px 3px 1px rgba(60, 64, 67, 0.15);\n",
              "      fill: #174EA6;\n",
              "    }\n",
              "\n",
              "    [theme=dark] .colab-df-convert {\n",
              "      background-color: #3B4455;\n",
              "      fill: #D2E3FC;\n",
              "    }\n",
              "\n",
              "    [theme=dark] .colab-df-convert:hover {\n",
              "      background-color: #434B5C;\n",
              "      box-shadow: 0px 1px 3px 1px rgba(0, 0, 0, 0.15);\n",
              "      filter: drop-shadow(0px 1px 2px rgba(0, 0, 0, 0.3));\n",
              "      fill: #FFFFFF;\n",
              "    }\n",
              "  </style>\n",
              "\n",
              "      <script>\n",
              "        const buttonEl =\n",
              "          document.querySelector('#df-19b60f9d-2d70-4568-a0cb-6cc49c5916c6 button.colab-df-convert');\n",
              "        buttonEl.style.display =\n",
              "          google.colab.kernel.accessAllowed ? 'block' : 'none';\n",
              "\n",
              "        async function convertToInteractive(key) {\n",
              "          const element = document.querySelector('#df-19b60f9d-2d70-4568-a0cb-6cc49c5916c6');\n",
              "          const dataTable =\n",
              "            await google.colab.kernel.invokeFunction('convertToInteractive',\n",
              "                                                     [key], {});\n",
              "          if (!dataTable) return;\n",
              "\n",
              "          const docLinkHtml = 'Like what you see? Visit the ' +\n",
              "            '<a target=\"_blank\" href=https://colab.research.google.com/notebooks/data_table.ipynb>data table notebook</a>'\n",
              "            + ' to learn more about interactive tables.';\n",
              "          element.innerHTML = '';\n",
              "          dataTable['output_type'] = 'display_data';\n",
              "          await google.colab.output.renderOutput(dataTable, element);\n",
              "          const docLink = document.createElement('div');\n",
              "          docLink.innerHTML = docLinkHtml;\n",
              "          element.appendChild(docLink);\n",
              "        }\n",
              "      </script>\n",
              "    </div>\n",
              "  </div>\n",
              "  "
            ]
          },
          "metadata": {},
          "execution_count": 47
        }
      ]
    },
    {
      "cell_type": "code",
      "source": [
        "whole['price_quartile'] = (\n",
        "    pd.qcut(whole['price'], 4, labels=[0, 1, 2, 3])\n",
        ")"
      ],
      "metadata": {
        "id": "kTSkypjuL_V4"
      },
      "execution_count": null,
      "outputs": []
    },
    {
      "cell_type": "code",
      "source": [
        "whole.drop(columns=['label'], inplace=True)"
      ],
      "metadata": {
        "id": "qVgxIJAjOFOZ"
      },
      "execution_count": null,
      "outputs": []
    },
    {
      "cell_type": "code",
      "source": [
        "new_df = whole\n",
        "new_df"
      ],
      "metadata": {
        "id": "HHGNHq7yOoi0",
        "colab": {
          "base_uri": "https://localhost:8080/",
          "height": 419
        },
        "outputId": "dd369425-9fdc-44fe-d14c-f36d626a12e3"
      },
      "execution_count": null,
      "outputs": [
        {
          "output_type": "execute_result",
          "data": {
            "text/plain": [
              "                          name   price             collection  \\\n",
              "3048               Akuma #3050  3655.0           akumaorigins   \n",
              "3939         Bone Slayer #3940  2772.0           akumaorigins   \n",
              "577          Dovah Priest #579  1761.0           akumaorigins   \n",
              "1711  Ghost of the Realm #1707  2390.0           akumaorigins   \n",
              "50                  Hakuma #42  3406.0           akumaorigins   \n",
              "...                        ...     ...                    ...   \n",
              "9971   VaynerSports Pass #9982  2296.0  vaynersports-pass-vsp   \n",
              "9996   VaynerSports Pass #9983  2296.0  vaynersports-pass-vsp   \n",
              "9925   VaynerSports Pass #9984  1408.0  vaynersports-pass-vsp   \n",
              "1023    VaynerSports Pass #999  1874.0  vaynersports-pass-vsp   \n",
              "9952   VaynerSports Pass #9997  2296.0  vaynersports-pass-vsp   \n",
              "\n",
              "                                          full_name price_quartile  \n",
              "3048                       akumaorigins/Akuma #3050              1  \n",
              "3939                 akumaorigins/Bone Slayer #3940              1  \n",
              "577                  akumaorigins/Dovah Priest #579              1  \n",
              "1711          akumaorigins/Ghost of the Realm #1707              1  \n",
              "50                          akumaorigins/Hakuma #42              1  \n",
              "...                                             ...            ...  \n",
              "9971  vaynersports-pass-vsp/VaynerSports Pass #9982              1  \n",
              "9996  vaynersports-pass-vsp/VaynerSports Pass #9983              1  \n",
              "9925  vaynersports-pass-vsp/VaynerSports Pass #9984              1  \n",
              "1023   vaynersports-pass-vsp/VaynerSports Pass #999              1  \n",
              "9952  vaynersports-pass-vsp/VaynerSports Pass #9997              1  \n",
              "\n",
              "[88770 rows x 5 columns]"
            ],
            "text/html": [
              "\n",
              "  <div id=\"df-602d15f5-54fc-49c8-85c1-7d833afcdfcd\">\n",
              "    <div class=\"colab-df-container\">\n",
              "      <div>\n",
              "<style scoped>\n",
              "    .dataframe tbody tr th:only-of-type {\n",
              "        vertical-align: middle;\n",
              "    }\n",
              "\n",
              "    .dataframe tbody tr th {\n",
              "        vertical-align: top;\n",
              "    }\n",
              "\n",
              "    .dataframe thead th {\n",
              "        text-align: right;\n",
              "    }\n",
              "</style>\n",
              "<table border=\"1\" class=\"dataframe\">\n",
              "  <thead>\n",
              "    <tr style=\"text-align: right;\">\n",
              "      <th></th>\n",
              "      <th>name</th>\n",
              "      <th>price</th>\n",
              "      <th>collection</th>\n",
              "      <th>full_name</th>\n",
              "      <th>price_quartile</th>\n",
              "    </tr>\n",
              "  </thead>\n",
              "  <tbody>\n",
              "    <tr>\n",
              "      <th>3048</th>\n",
              "      <td>Akuma #3050</td>\n",
              "      <td>3655.0</td>\n",
              "      <td>akumaorigins</td>\n",
              "      <td>akumaorigins/Akuma #3050</td>\n",
              "      <td>1</td>\n",
              "    </tr>\n",
              "    <tr>\n",
              "      <th>3939</th>\n",
              "      <td>Bone Slayer #3940</td>\n",
              "      <td>2772.0</td>\n",
              "      <td>akumaorigins</td>\n",
              "      <td>akumaorigins/Bone Slayer #3940</td>\n",
              "      <td>1</td>\n",
              "    </tr>\n",
              "    <tr>\n",
              "      <th>577</th>\n",
              "      <td>Dovah Priest #579</td>\n",
              "      <td>1761.0</td>\n",
              "      <td>akumaorigins</td>\n",
              "      <td>akumaorigins/Dovah Priest #579</td>\n",
              "      <td>1</td>\n",
              "    </tr>\n",
              "    <tr>\n",
              "      <th>1711</th>\n",
              "      <td>Ghost of the Realm #1707</td>\n",
              "      <td>2390.0</td>\n",
              "      <td>akumaorigins</td>\n",
              "      <td>akumaorigins/Ghost of the Realm #1707</td>\n",
              "      <td>1</td>\n",
              "    </tr>\n",
              "    <tr>\n",
              "      <th>50</th>\n",
              "      <td>Hakuma #42</td>\n",
              "      <td>3406.0</td>\n",
              "      <td>akumaorigins</td>\n",
              "      <td>akumaorigins/Hakuma #42</td>\n",
              "      <td>1</td>\n",
              "    </tr>\n",
              "    <tr>\n",
              "      <th>...</th>\n",
              "      <td>...</td>\n",
              "      <td>...</td>\n",
              "      <td>...</td>\n",
              "      <td>...</td>\n",
              "      <td>...</td>\n",
              "    </tr>\n",
              "    <tr>\n",
              "      <th>9971</th>\n",
              "      <td>VaynerSports Pass #9982</td>\n",
              "      <td>2296.0</td>\n",
              "      <td>vaynersports-pass-vsp</td>\n",
              "      <td>vaynersports-pass-vsp/VaynerSports Pass #9982</td>\n",
              "      <td>1</td>\n",
              "    </tr>\n",
              "    <tr>\n",
              "      <th>9996</th>\n",
              "      <td>VaynerSports Pass #9983</td>\n",
              "      <td>2296.0</td>\n",
              "      <td>vaynersports-pass-vsp</td>\n",
              "      <td>vaynersports-pass-vsp/VaynerSports Pass #9983</td>\n",
              "      <td>1</td>\n",
              "    </tr>\n",
              "    <tr>\n",
              "      <th>9925</th>\n",
              "      <td>VaynerSports Pass #9984</td>\n",
              "      <td>1408.0</td>\n",
              "      <td>vaynersports-pass-vsp</td>\n",
              "      <td>vaynersports-pass-vsp/VaynerSports Pass #9984</td>\n",
              "      <td>1</td>\n",
              "    </tr>\n",
              "    <tr>\n",
              "      <th>1023</th>\n",
              "      <td>VaynerSports Pass #999</td>\n",
              "      <td>1874.0</td>\n",
              "      <td>vaynersports-pass-vsp</td>\n",
              "      <td>vaynersports-pass-vsp/VaynerSports Pass #999</td>\n",
              "      <td>1</td>\n",
              "    </tr>\n",
              "    <tr>\n",
              "      <th>9952</th>\n",
              "      <td>VaynerSports Pass #9997</td>\n",
              "      <td>2296.0</td>\n",
              "      <td>vaynersports-pass-vsp</td>\n",
              "      <td>vaynersports-pass-vsp/VaynerSports Pass #9997</td>\n",
              "      <td>1</td>\n",
              "    </tr>\n",
              "  </tbody>\n",
              "</table>\n",
              "<p>88770 rows × 5 columns</p>\n",
              "</div>\n",
              "      <button class=\"colab-df-convert\" onclick=\"convertToInteractive('df-602d15f5-54fc-49c8-85c1-7d833afcdfcd')\"\n",
              "              title=\"Convert this dataframe to an interactive table.\"\n",
              "              style=\"display:none;\">\n",
              "        \n",
              "  <svg xmlns=\"http://www.w3.org/2000/svg\" height=\"24px\"viewBox=\"0 0 24 24\"\n",
              "       width=\"24px\">\n",
              "    <path d=\"M0 0h24v24H0V0z\" fill=\"none\"/>\n",
              "    <path d=\"M18.56 5.44l.94 2.06.94-2.06 2.06-.94-2.06-.94-.94-2.06-.94 2.06-2.06.94zm-11 1L8.5 8.5l.94-2.06 2.06-.94-2.06-.94L8.5 2.5l-.94 2.06-2.06.94zm10 10l.94 2.06.94-2.06 2.06-.94-2.06-.94-.94-2.06-.94 2.06-2.06.94z\"/><path d=\"M17.41 7.96l-1.37-1.37c-.4-.4-.92-.59-1.43-.59-.52 0-1.04.2-1.43.59L10.3 9.45l-7.72 7.72c-.78.78-.78 2.05 0 2.83L4 21.41c.39.39.9.59 1.41.59.51 0 1.02-.2 1.41-.59l7.78-7.78 2.81-2.81c.8-.78.8-2.07 0-2.86zM5.41 20L4 18.59l7.72-7.72 1.47 1.35L5.41 20z\"/>\n",
              "  </svg>\n",
              "      </button>\n",
              "      \n",
              "  <style>\n",
              "    .colab-df-container {\n",
              "      display:flex;\n",
              "      flex-wrap:wrap;\n",
              "      gap: 12px;\n",
              "    }\n",
              "\n",
              "    .colab-df-convert {\n",
              "      background-color: #E8F0FE;\n",
              "      border: none;\n",
              "      border-radius: 50%;\n",
              "      cursor: pointer;\n",
              "      display: none;\n",
              "      fill: #1967D2;\n",
              "      height: 32px;\n",
              "      padding: 0 0 0 0;\n",
              "      width: 32px;\n",
              "    }\n",
              "\n",
              "    .colab-df-convert:hover {\n",
              "      background-color: #E2EBFA;\n",
              "      box-shadow: 0px 1px 2px rgba(60, 64, 67, 0.3), 0px 1px 3px 1px rgba(60, 64, 67, 0.15);\n",
              "      fill: #174EA6;\n",
              "    }\n",
              "\n",
              "    [theme=dark] .colab-df-convert {\n",
              "      background-color: #3B4455;\n",
              "      fill: #D2E3FC;\n",
              "    }\n",
              "\n",
              "    [theme=dark] .colab-df-convert:hover {\n",
              "      background-color: #434B5C;\n",
              "      box-shadow: 0px 1px 3px 1px rgba(0, 0, 0, 0.15);\n",
              "      filter: drop-shadow(0px 1px 2px rgba(0, 0, 0, 0.3));\n",
              "      fill: #FFFFFF;\n",
              "    }\n",
              "  </style>\n",
              "\n",
              "      <script>\n",
              "        const buttonEl =\n",
              "          document.querySelector('#df-602d15f5-54fc-49c8-85c1-7d833afcdfcd button.colab-df-convert');\n",
              "        buttonEl.style.display =\n",
              "          google.colab.kernel.accessAllowed ? 'block' : 'none';\n",
              "\n",
              "        async function convertToInteractive(key) {\n",
              "          const element = document.querySelector('#df-602d15f5-54fc-49c8-85c1-7d833afcdfcd');\n",
              "          const dataTable =\n",
              "            await google.colab.kernel.invokeFunction('convertToInteractive',\n",
              "                                                     [key], {});\n",
              "          if (!dataTable) return;\n",
              "\n",
              "          const docLinkHtml = 'Like what you see? Visit the ' +\n",
              "            '<a target=\"_blank\" href=https://colab.research.google.com/notebooks/data_table.ipynb>data table notebook</a>'\n",
              "            + ' to learn more about interactive tables.';\n",
              "          element.innerHTML = '';\n",
              "          dataTable['output_type'] = 'display_data';\n",
              "          await google.colab.output.renderOutput(dataTable, element);\n",
              "          const docLink = document.createElement('div');\n",
              "          docLink.innerHTML = docLinkHtml;\n",
              "          element.appendChild(docLink);\n",
              "        }\n",
              "      </script>\n",
              "    </div>\n",
              "  </div>\n",
              "  "
            ]
          },
          "metadata": {},
          "execution_count": 50
        }
      ]
    },
    {
      "cell_type": "code",
      "source": [
        "image_names = []\n",
        "for dir in os.listdir(\"collections\"):\n",
        "    for file in os.listdir(\"collections/\" + dir):\n",
        "        filename = os.fsdecode(file)\n",
        "        image_names.append(dir+\"/\"+os.path.splitext(filename)[0])"
      ],
      "metadata": {
        "id": "op5Qd_J6Oq6u"
      },
      "execution_count": null,
      "outputs": []
    },
    {
      "cell_type": "code",
      "source": [
        "image_names_set = set(image_names)\n",
        "df_names_set = set(df.full_name.apply(lambda x: str(x)).values)"
      ],
      "metadata": {
        "id": "_6KBEwfGOwBn"
      },
      "execution_count": null,
      "outputs": []
    },
    {
      "cell_type": "code",
      "source": [
        "difference = image_names_set - df_names_set\n",
        "difference"
      ],
      "metadata": {
        "id": "eIazYoxvO15q"
      },
      "execution_count": null,
      "outputs": []
    },
    {
      "cell_type": "code",
      "source": [
        "for elem in difference:\n",
        "      try:\n",
        "          os.remove(f'collections/{elem}.png')\n",
        "      except:\n",
        "          os.remove(f'collections/{elem}.jpeg')"
      ],
      "metadata": {
        "id": "kxzCvoZXO5Cr"
      },
      "execution_count": null,
      "outputs": []
    },
    {
      "cell_type": "code",
      "source": [
        "def read_files(collections):\n",
        "    # i = 0\n",
        "    X = []\n",
        "    for coll in sorted(os.listdir(collections)):\n",
        "        files = sorted(os.listdir(f\"/content/collections/{coll}\"))\n",
        "        for name in files:\n",
        "            img = cv2.imread(f\"/content/collections/{coll}\" + '/' + name)\n",
        "            img = cv2.resize(img, (126, 126))\n",
        "            X.append(img)\n",
        "    return X"
      ],
      "metadata": {
        "id": "BfijQ97gO8U-"
      },
      "execution_count": null,
      "outputs": []
    },
    {
      "cell_type": "code",
      "source": [
        "X = read_files(\"/content/collections\")"
      ],
      "metadata": {
        "id": "x336ORkAO_3Q"
      },
      "execution_count": null,
      "outputs": []
    },
    {
      "cell_type": "code",
      "source": [
        "image = skimage.img_as_ubyte(X[0])\n",
        "plt.imshow(image)"
      ],
      "metadata": {
        "id": "eoYvg1TCPChy",
        "colab": {
          "base_uri": "https://localhost:8080/",
          "height": 285
        },
        "outputId": "251facbc-e003-4d7b-fe46-3c61b6fa9283"
      },
      "execution_count": null,
      "outputs": [
        {
          "output_type": "execute_result",
          "data": {
            "text/plain": [
              "<matplotlib.image.AxesImage at 0x7fecfdbe3290>"
            ]
          },
          "metadata": {},
          "execution_count": 19
        },
        {
          "output_type": "display_data",
          "data": {
            "text/plain": [
              "<Figure size 432x288 with 1 Axes>"
            ],
            "image/png": "[encoded data removed]"
          },
          "metadata": {
            "needs_background": "light"
          }
        }
      ]
    },
    {
      "cell_type": "code",
      "source": [
        "Y = new_df.price.values"
      ],
      "metadata": {
        "id": "Jnu1Gf2gPFxq"
      },
      "execution_count": null,
      "outputs": []
    },
    {
      "cell_type": "code",
      "source": [
        "class NftDataset(Dataset):\n",
        "    def __init__(self, x, y, transform=None):\n",
        "        self.X = x\n",
        "        self.Y = y\n",
        "        self.transform = transform\n",
        "\n",
        "    def __len__(self):\n",
        "        return len(self.X)\n",
        "\n",
        "    def __getitem__(self, index):\n",
        "        img = skimage.img_as_ubyte(self.X[index])\n",
        "        if self.transform:\n",
        "            img = self.transform(img)\n",
        "        return img, self.Y[index]"
      ],
      "metadata": {
        "id": "ic6M6RYaT_0o"
      },
      "execution_count": null,
      "outputs": []
    },
    {
      "cell_type": "code",
      "source": [
        "transform_img = transforms.Compose([\n",
        "                            transforms.ToTensor(),\n",
        "                            transforms.Resize((224,224))\n",
        "])"
      ],
      "metadata": {
        "id": "JDIAmxd_UCQw"
      },
      "execution_count": null,
      "outputs": []
    },
    {
      "cell_type": "code",
      "source": [
        "dataset = NftDataset(X, Y, transform_img)\n",
        "train_set, test_set = torch.utils.data.random_split(dataset, [round(0.7*len(dataset)), round(0.3*len(dataset))])\n",
        "\n",
        "train_loader = DataLoader(dataset=train_set, batch_size=128, drop_last=True, shuffle=True)\n",
        "test_loader = DataLoader(dataset=test_set, batch_size=128, shuffle=True)"
      ],
      "metadata": {
        "id": "XZ09ls5-UKT2"
      },
      "execution_count": null,
      "outputs": []
    },
    {
      "cell_type": "code",
      "source": [
        "for x, y in train_loader:\n",
        "    print(x.shape, y.shape)\n",
        "    break"
      ],
      "metadata": {
        "colab": {
          "base_uri": "https://localhost:8080/"
        },
        "id": "nucN42tnULmF",
        "outputId": "f98b1eb0-f5f1-4032-d9e3-fff817b05680"
      },
      "execution_count": null,
      "outputs": [
        {
          "output_type": "stream",
          "name": "stdout",
          "text": [
            "torch.Size([128, 3, 224, 224]) torch.Size([128])\n"
          ]
        }
      ]
    },
    {
      "cell_type": "code",
      "source": [
        "model = models.resnet18(pretrained=True)\n",
        "model.fc = nn.Linear(512, 4)\n",
        "_ = model.cuda()"
      ],
      "metadata": {
        "id": "rJAtBvonQAY8"
      },
      "execution_count": null,
      "outputs": []
    },
    {
      "cell_type": "code",
      "source": [
        "criterion = torch.nn.CrossEntropyLoss()\n",
        "lr = 1e-4\n",
        "optimizer = optim.Adam(model.parameters(), lr)\n",
        "num_epochs = 10"
      ],
      "metadata": {
        "id": "lEmgDazGQaLS"
      },
      "execution_count": null,
      "outputs": []
    },
    {
      "cell_type": "code",
      "source": [
        "train_losses = []\n",
        "val_losses = []\n",
        "\n",
        "train_metrics = []\n",
        "val_metrics = []\n",
        "\n",
        "hist = {\"train_loss\": [],\n",
        "        \"train_accuracy\": [],\n",
        "        \"test_loss\": [],\n",
        "        \"test_accuracy\": []}"
      ],
      "metadata": {
        "id": "lkabHeoDQijv"
      },
      "execution_count": null,
      "outputs": []
    },
    {
      "cell_type": "code",
      "source": [
        "for i in range(num_epochs):\n",
        "    if i > 0:\n",
        "        print(\"Epoch %d/%d\\t Loss mean: %f\\t Accuracy mean: %f\"% \\\n",
        "                (i, num_epochs, epoch_loss, epoch_accuracy))\n",
        "        print(\"Epoch %d/%d\\t Val Loss mean: %f\\t Test Accuracy mean: %f\"% \\\n",
        "            (i, num_epochs, test_loss, test_accuracy))\n",
        "\n",
        "        plt.figure(figsize=(16, 6))\n",
        "        plt.subplot(121)\n",
        "        plt.plot(hist['train_loss'], label='train')\n",
        "        plt.plot(hist['test_loss'], label='val')\n",
        "        plt.legend()\n",
        "        plt.grid()\n",
        "\n",
        "        plt.subplot(122)\n",
        "        plt.plot(hist['train_accuracy'], label='train_accuracy')\n",
        "        plt.plot(hist['test_accuracy'], label='test_accuracy')\n",
        "        plt.legend()\n",
        "        plt.grid()\n",
        "        plt.show()\n",
        "\n",
        "\n",
        "    epoch_losses = []\n",
        "    test_losses = []\n",
        "    epoch_accuracies = []\n",
        "    test_accuracies = []\n",
        "\n",
        "    model.train()\n",
        "    for k, (X, Y) in enumerate(train_loader):\n",
        "        optimizer.zero_grad()\n",
        "        y_pred = model(X.cuda())\n",
        "        loss = criterion(y_pred, Y.cuda())\n",
        "        accuracy = (torch.argmax(y_pred.detach().cpu(), 1) == Y.cpu()).sum()/len(Y)\n",
        "        loss.backward()\n",
        "        optimizer.step()\n",
        "        epoch_losses.append(loss.item())\n",
        "        epoch_accuracies.append(accuracy)\n",
        "        if k%10 == 0:\n",
        "            print(\"Epoch: %d \\tLoss: %f\"%(i+1, loss.item()))\n",
        "\n",
        "    epoch_loss = np.mean(np.array(epoch_losses))\n",
        "    epoch_accuracy = np.mean(np.array(epoch_accuracies))\n",
        "    hist['train_accuracy'].append(epoch_accuracy)\n",
        "    hist['train_loss'].append(epoch_loss)\n",
        "\n",
        "    with torch.no_grad():\n",
        "        model.eval()\n",
        "        for k, (X, Y) in enumerate(test_loader):\n",
        "            y_pred = model(X.cuda())\n",
        "            loss = criterion(y_pred, Y.cuda())\n",
        "            accuracy = (torch.argmax(y_pred.detach().cpu(), 1) == Y.cpu()).sum()/len(Y)\n",
        "            test_losses.append(loss.item())\n",
        "            test_accuracies.append(accuracy)\n",
        "\n",
        "    test_loss = np.mean(np.array(test_losses))\n",
        "    test_accuracy = np.mean(np.array(test_accuracies))\n",
        "    hist['test_loss'].append(test_loss)\n",
        "    hist['test_accuracy'].append(test_accuracy)\n",
        "    \n",
        "    if i < (num_epochs - 1):\n",
        "        clear_output()"
      ],
      "metadata": {
        "id": "NorvazonQmDN",
        "colab": {
          "base_uri": "https://localhost:8080/",
          "height": 1000
        },
        "outputId": "f68d0b21-0560-433b-aef3-4110c0c07173"
      },
      "execution_count": null,
      "outputs": [
        {
          "output_type": "stream",
          "name": "stdout",
          "text": [
            "Epoch 9/10\t Loss mean: 0.411516\t Accuracy mean: 0.814610\n",
            "Epoch 9/10\t Val Loss mean: 1.268091\t Test Accuracy mean: 0.607762\n"
          ]
        },
        {
          "output_type": "display_data",
          "data": {
            "text/plain": [
              "<Figure size 1152x432 with 2 Axes>"
            ],
            "image/png": "[encoded data removed]"
          },
          "metadata": {
            "needs_background": "light"
          }
        },
        {
          "output_type": "stream",
          "name": "stdout",
          "text": [
            "Epoch: 10 \tLoss: 0.298951\n",
            "Epoch: 10 \tLoss: 0.320674\n",
            "Epoch: 10 \tLoss: 0.367750\n",
            "Epoch: 10 \tLoss: 0.223981\n",
            "Epoch: 10 \tLoss: 0.254461\n",
            "Epoch: 10 \tLoss: 0.343313\n",
            "Epoch: 10 \tLoss: 0.228404\n",
            "Epoch: 10 \tLoss: 0.349992\n",
            "Epoch: 10 \tLoss: 0.369455\n",
            "Epoch: 10 \tLoss: 0.385830\n",
            "Epoch: 10 \tLoss: 0.313661\n",
            "Epoch: 10 \tLoss: 0.330874\n",
            "Epoch: 10 \tLoss: 0.469288\n",
            "Epoch: 10 \tLoss: 0.319773\n",
            "Epoch: 10 \tLoss: 0.369372\n",
            "Epoch: 10 \tLoss: 0.364947\n",
            "Epoch: 10 \tLoss: 0.363988\n",
            "Epoch: 10 \tLoss: 0.359481\n",
            "Epoch: 10 \tLoss: 0.300211\n",
            "Epoch: 10 \tLoss: 0.407200\n",
            "Epoch: 10 \tLoss: 0.351437\n",
            "Epoch: 10 \tLoss: 0.427893\n",
            "Epoch: 10 \tLoss: 0.433723\n",
            "Epoch: 10 \tLoss: 0.354012\n",
            "Epoch: 10 \tLoss: 0.349227\n",
            "Epoch: 10 \tLoss: 0.336389\n",
            "Epoch: 10 \tLoss: 0.478255\n",
            "Epoch: 10 \tLoss: 0.384186\n",
            "Epoch: 10 \tLoss: 0.408260\n",
            "Epoch: 10 \tLoss: 0.313320\n",
            "Epoch: 10 \tLoss: 0.390031\n",
            "Epoch: 10 \tLoss: 0.397820\n",
            "Epoch: 10 \tLoss: 0.438120\n",
            "Epoch: 10 \tLoss: 0.412573\n",
            "Epoch: 10 \tLoss: 0.401727\n",
            "Epoch: 10 \tLoss: 0.332981\n",
            "Epoch: 10 \tLoss: 0.325165\n",
            "Epoch: 10 \tLoss: 0.493892\n",
            "Epoch: 10 \tLoss: 0.385118\n",
            "Epoch: 10 \tLoss: 0.325133\n",
            "Epoch: 10 \tLoss: 0.407898\n",
            "Epoch: 10 \tLoss: 0.431669\n",
            "Epoch: 10 \tLoss: 0.268000\n",
            "Epoch: 10 \tLoss: 0.326667\n",
            "Epoch: 10 \tLoss: 0.379413\n",
            "Epoch: 10 \tLoss: 0.459051\n",
            "Epoch: 10 \tLoss: 0.354959\n",
            "Epoch: 10 \tLoss: 0.326045\n",
            "Epoch: 10 \tLoss: 0.403517\n"
          ]
        }
      ]
    },
    {
      "cell_type": "markdown",
      "source": [
        "#Feature extraction"
      ],
      "metadata": {
        "id": "j4jQE2-lvUHt"
      }
    },
    {
      "cell_type": "code",
      "source": [
        "class Identity(nn.Module):\n",
        "    def __init__(self):\n",
        "        super(Identity, self).__init__()\n",
        "        \n",
        "    def forward(self, x):\n",
        "        return x\n",
        "\n",
        "\n",
        "model = models.resnet18(pretrained=True)\n",
        "model.fc = Identity()\n",
        "example = torch.randn(1, 3, 224, 224)\n",
        "output = model(example)\n",
        "print(output.shape)"
      ],
      "metadata": {
        "colab": {
          "base_uri": "https://localhost:8080/",
          "height": 103,
          "referenced_widgets": [
            "0b2821d922a847879b07b7817a02244b",
            "3e5cf6626fbf4fd5abaea44a237e9cc6",
            "313d1503eabf453c8e47741a5c25a039",
            "6f804f83f7874990b110829f64e72c96",
            "45708c10cbca4cbfbcb834796005b2a7",
            "aae47165c3ac47f39ce418241a2f0b37",
            "c0f309136f13437487b8d7b7893acc79",
            "97f8525cc4e645f7a06e7115de11c2c2",
            "325398674aec455eb0be5ea5e7a70f0c",
            "8aee7a4dcc45444c9be46e3b6a5f6432",
            "99ac307c85c64e5383d7417949de642c"
          ]
        },
        "id": "dCiU4YcyvXIp",
        "outputId": "4be7d8dc-da09-4ef3-e62c-78e34ba95626"
      },
      "execution_count": null,
      "outputs": [
        {
          "output_type": "stream",
          "name": "stderr",
          "text": [
            "Downloading: \"https://download.pytorch.org/models/resnet18-f37072fd.pth\" to /root/.cache/torch/hub/checkpoints/resnet18-f37072fd.pth\n"
          ]
        },
        {
          "output_type": "display_data",
          "data": {
            "text/plain": [
              "  0%|          | 0.00/44.7M [00:00<?, ?B/s]"
            ],
            "application/vnd.jupyter.widget-view+json": {
              "version_major": 2,
              "version_minor": 0,
              "model_id": "0b2821d922a847879b07b7817a02244b"
            }
          },
          "metadata": {}
        },
        {
          "output_type": "stream",
          "name": "stdout",
          "text": [
            "torch.Size([1, 512])\n"
          ]
        }
      ]
    },
    {
      "cell_type": "code",
      "source": [
        "loader = DataLoader(dataset=dataset)"
      ],
      "metadata": {
        "id": "Sy_dbk1u2JdA"
      },
      "execution_count": null,
      "outputs": []
    },
    {
      "cell_type": "code",
      "source": [
        "visual_features = pd.DataFrame()"
      ],
      "metadata": {
        "id": "BNJPq1CS3Ttj"
      },
      "execution_count": null,
      "outputs": []
    },
    {
      "cell_type": "code",
      "source": [
        "data = []\n",
        "with torch.no_grad():\n",
        "    for k, (X, Y) in enumerate(loader):\n",
        "        output = model(X).numpy()\n",
        "        data.append(output)\n",
        "        print(k)"
      ],
      "metadata": {
        "id": "EXD2azWT2fu8"
      },
      "execution_count": null,
      "outputs": []
    },
    {
      "cell_type": "code",
      "source": [
        "data[0].shape"
      ],
      "metadata": {
        "colab": {
          "base_uri": "https://localhost:8080/"
        },
        "id": "HltVkqIG8WRJ",
        "outputId": "f74df286-f82a-497b-879c-fbfe98e7e401"
      },
      "execution_count": null,
      "outputs": [
        {
          "output_type": "execute_result",
          "data": {
            "text/plain": [
              "(1, 512)"
            ]
          },
          "metadata": {},
          "execution_count": 60
        }
      ]
    },
    {
      "cell_type": "code",
      "source": [
        "data_mod = []\n",
        "for arr in data:\n",
        "    data_mod.append(arr[0])"
      ],
      "metadata": {
        "id": "KWkwdmfJgESP"
      },
      "execution_count": null,
      "outputs": []
    },
    {
      "cell_type": "code",
      "source": [
        "features = pd.DataFrame(data=data_mod)\n",
        "features"
      ],
      "metadata": {
        "colab": {
          "base_uri": "https://localhost:8080/",
          "height": 483
        },
        "id": "tX8RAlLOf2BL",
        "outputId": "a9823d3a-f023-48a0-c48f-92464d297c66"
      },
      "execution_count": null,
      "outputs": [
        {
          "output_type": "execute_result",
          "data": {
            "text/plain": [
              "            0         1         2         3         4         5         6    \\\n",
              "0      0.934029  0.981545  0.976412  1.066683  0.968872  0.891119  0.988836   \n",
              "1      0.938220  0.880504  0.857132  1.040995  0.976252  0.925164  0.967621   \n",
              "2      0.895706  0.929837  0.961717  1.014144  0.871044  0.842708  0.989983   \n",
              "3      0.951730  0.979985  0.920574  1.117102  0.889481  0.952616  0.966989   \n",
              "4      0.868721  0.996198  0.935798  1.045763  0.883948  0.818028  0.979869   \n",
              "...         ...       ...       ...       ...       ...       ...       ...   \n",
              "19996  0.914120  0.925273  0.900118  0.960528  0.967286  0.891464  0.888590   \n",
              "19997  0.914842  0.856208  0.940224  1.083822  0.977326  0.854397  0.955765   \n",
              "19998  0.881455  0.935094  0.942270  1.035600  1.003365  0.920872  0.952930   \n",
              "19999  0.810684  0.861484  0.919543  1.076376  0.964247  0.943317  0.912372   \n",
              "20000  0.891227  0.989809  1.018932  1.080056  0.929162  0.866715  1.004992   \n",
              "\n",
              "            7         8         9    ...       502       503       504  \\\n",
              "0      1.178757  0.913636  0.938815  ...  0.984249  0.928865  0.911456   \n",
              "1      1.140278  0.949873  0.951100  ...  1.033237  0.888906  0.921547   \n",
              "2      1.211613  0.964185  0.978369  ...  0.897442  0.879061  0.936334   \n",
              "3      1.156702  0.941262  0.967308  ...  0.943299  0.963741  0.848848   \n",
              "4      1.130943  0.919120  0.921112  ...  0.993533  0.915709  0.876882   \n",
              "...         ...       ...       ...  ...       ...       ...       ...   \n",
              "19996  1.154843  0.897539  0.993960  ...  0.945114  0.836829  0.879486   \n",
              "19997  1.127757  1.005424  0.989290  ...  0.961555  0.860696  0.872420   \n",
              "19998  1.151631  0.863433  0.939638  ...  0.898297  0.893952  0.913888   \n",
              "19999  1.134955  0.858544  0.961412  ...  0.929174  0.924310  0.849455   \n",
              "20000  1.160603  0.971029  1.006898  ...  0.894121  0.812422  0.895354   \n",
              "\n",
              "            505       506       507       508       509       510       511  \n",
              "0      0.925369  1.151510  0.984131  0.951318  0.932598  0.990700  0.942260  \n",
              "1      0.746365  1.204340  0.977105  1.019365  0.972921  0.971863  0.997996  \n",
              "2      0.873518  1.043786  0.989539  0.955227  0.892811  1.079472  0.936167  \n",
              "3      0.896376  1.168763  0.981159  0.950871  0.976202  0.885704  0.993610  \n",
              "4      0.864123  1.104043  1.049291  0.926737  0.923398  1.095547  1.002458  \n",
              "...         ...       ...       ...       ...       ...       ...       ...  \n",
              "19996  0.859434  1.121233  0.965460  0.974839  0.898467  1.064630  1.005797  \n",
              "19997  0.902367  1.170768  0.942389  0.942617  0.834145  1.074168  0.990893  \n",
              "19998  0.906701  1.157844  0.976933  0.979193  0.903136  1.060011  1.003754  \n",
              "19999  0.898823  1.015505  1.030162  0.995825  0.963040  1.102519  1.015715  \n",
              "20000  0.869029  1.086702  1.016895  0.932311  0.967356  1.099940  0.933377  \n",
              "\n",
              "[20001 rows x 512 columns]"
            ],
            "text/html": [
              "\n",
              "  <div id=\"df-9ca10ae0-e9f0-4154-9d52-319de250ece2\">\n",
              "    <div class=\"colab-df-container\">\n",
              "      <div>\n",
              "<style scoped>\n",
              "    .dataframe tbody tr th:only-of-type {\n",
              "        vertical-align: middle;\n",
              "    }\n",
              "\n",
              "    .dataframe tbody tr th {\n",
              "        vertical-align: top;\n",
              "    }\n",
              "\n",
              "    .dataframe thead th {\n",
              "        text-align: right;\n",
              "    }\n",
              "</style>\n",
              "<table border=\"1\" class=\"dataframe\">\n",
              "  <thead>\n",
              "    <tr style=\"text-align: right;\">\n",
              "      <th></th>\n",
              "      <th>0</th>\n",
              "      <th>1</th>\n",
              "      <th>2</th>\n",
              "      <th>3</th>\n",
              "      <th>4</th>\n",
              "      <th>5</th>\n",
              "      <th>6</th>\n",
              "      <th>7</th>\n",
              "      <th>8</th>\n",
              "      <th>9</th>\n",
              "      <th>...</th>\n",
              "      <th>502</th>\n",
              "      <th>503</th>\n",
              "      <th>504</th>\n",
              "      <th>505</th>\n",
              "      <th>506</th>\n",
              "      <th>507</th>\n",
              "      <th>508</th>\n",
              "      <th>509</th>\n",
              "      <th>510</th>\n",
              "      <th>511</th>\n",
              "    </tr>\n",
              "  </thead>\n",
              "  <tbody>\n",
              "    <tr>\n",
              "      <th>0</th>\n",
              "      <td>0.934029</td>\n",
              "      <td>0.981545</td>\n",
              "      <td>0.976412</td>\n",
              "      <td>1.066683</td>\n",
              "      <td>0.968872</td>\n",
              "      <td>0.891119</td>\n",
              "      <td>0.988836</td>\n",
              "      <td>1.178757</td>\n",
              "      <td>0.913636</td>\n",
              "      <td>0.938815</td>\n",
              "      <td>...</td>\n",
              "      <td>0.984249</td>\n",
              "      <td>0.928865</td>\n",
              "      <td>0.911456</td>\n",
              "      <td>0.925369</td>\n",
              "      <td>1.151510</td>\n",
              "      <td>0.984131</td>\n",
              "      <td>0.951318</td>\n",
              "      <td>0.932598</td>\n",
              "      <td>0.990700</td>\n",
              "      <td>0.942260</td>\n",
              "    </tr>\n",
              "    <tr>\n",
              "      <th>1</th>\n",
              "      <td>0.938220</td>\n",
              "      <td>0.880504</td>\n",
              "      <td>0.857132</td>\n",
              "      <td>1.040995</td>\n",
              "      <td>0.976252</td>\n",
              "      <td>0.925164</td>\n",
              "      <td>0.967621</td>\n",
              "      <td>1.140278</td>\n",
              "      <td>0.949873</td>\n",
              "      <td>0.951100</td>\n",
              "      <td>...</td>\n",
              "      <td>1.033237</td>\n",
              "      <td>0.888906</td>\n",
              "      <td>0.921547</td>\n",
              "      <td>0.746365</td>\n",
              "      <td>1.204340</td>\n",
              "      <td>0.977105</td>\n",
              "      <td>1.019365</td>\n",
              "      <td>0.972921</td>\n",
              "      <td>0.971863</td>\n",
              "      <td>0.997996</td>\n",
              "    </tr>\n",
              "    <tr>\n",
              "      <th>2</th>\n",
              "      <td>0.895706</td>\n",
              "      <td>0.929837</td>\n",
              "      <td>0.961717</td>\n",
              "      <td>1.014144</td>\n",
              "      <td>0.871044</td>\n",
              "      <td>0.842708</td>\n",
              "      <td>0.989983</td>\n",
              "      <td>1.211613</td>\n",
              "      <td>0.964185</td>\n",
              "      <td>0.978369</td>\n",
              "      <td>...</td>\n",
              "      <td>0.897442</td>\n",
              "      <td>0.879061</td>\n",
              "      <td>0.936334</td>\n",
              "      <td>0.873518</td>\n",
              "      <td>1.043786</td>\n",
              "      <td>0.989539</td>\n",
              "      <td>0.955227</td>\n",
              "      <td>0.892811</td>\n",
              "      <td>1.079472</td>\n",
              "      <td>0.936167</td>\n",
              "    </tr>\n",
              "    <tr>\n",
              "      <th>3</th>\n",
              "      <td>0.951730</td>\n",
              "      <td>0.979985</td>\n",
              "      <td>0.920574</td>\n",
              "      <td>1.117102</td>\n",
              "      <td>0.889481</td>\n",
              "      <td>0.952616</td>\n",
              "      <td>0.966989</td>\n",
              "      <td>1.156702</td>\n",
              "      <td>0.941262</td>\n",
              "      <td>0.967308</td>\n",
              "      <td>...</td>\n",
              "      <td>0.943299</td>\n",
              "      <td>0.963741</td>\n",
              "      <td>0.848848</td>\n",
              "      <td>0.896376</td>\n",
              "      <td>1.168763</td>\n",
              "      <td>0.981159</td>\n",
              "      <td>0.950871</td>\n",
              "      <td>0.976202</td>\n",
              "      <td>0.885704</td>\n",
              "      <td>0.993610</td>\n",
              "    </tr>\n",
              "    <tr>\n",
              "      <th>4</th>\n",
              "      <td>0.868721</td>\n",
              "      <td>0.996198</td>\n",
              "      <td>0.935798</td>\n",
              "      <td>1.045763</td>\n",
              "      <td>0.883948</td>\n",
              "      <td>0.818028</td>\n",
              "      <td>0.979869</td>\n",
              "      <td>1.130943</td>\n",
              "      <td>0.919120</td>\n",
              "      <td>0.921112</td>\n",
              "      <td>...</td>\n",
              "      <td>0.993533</td>\n",
              "      <td>0.915709</td>\n",
              "      <td>0.876882</td>\n",
              "      <td>0.864123</td>\n",
              "      <td>1.104043</td>\n",
              "      <td>1.049291</td>\n",
              "      <td>0.926737</td>\n",
              "      <td>0.923398</td>\n",
              "      <td>1.095547</td>\n",
              "      <td>1.002458</td>\n",
              "    </tr>\n",
              "    <tr>\n",
              "      <th>...</th>\n",
              "      <td>...</td>\n",
              "      <td>...</td>\n",
              "      <td>...</td>\n",
              "      <td>...</td>\n",
              "      <td>...</td>\n",
              "      <td>...</td>\n",
              "      <td>...</td>\n",
              "      <td>...</td>\n",
              "      <td>...</td>\n",
              "      <td>...</td>\n",
              "      <td>...</td>\n",
              "      <td>...</td>\n",
              "      <td>...</td>\n",
              "      <td>...</td>\n",
              "      <td>...</td>\n",
              "      <td>...</td>\n",
              "      <td>...</td>\n",
              "      <td>...</td>\n",
              "      <td>...</td>\n",
              "      <td>...</td>\n",
              "      <td>...</td>\n",
              "    </tr>\n",
              "    <tr>\n",
              "      <th>19996</th>\n",
              "      <td>0.914120</td>\n",
              "      <td>0.925273</td>\n",
              "      <td>0.900118</td>\n",
              "      <td>0.960528</td>\n",
              "      <td>0.967286</td>\n",
              "      <td>0.891464</td>\n",
              "      <td>0.888590</td>\n",
              "      <td>1.154843</td>\n",
              "      <td>0.897539</td>\n",
              "      <td>0.993960</td>\n",
              "      <td>...</td>\n",
              "      <td>0.945114</td>\n",
              "      <td>0.836829</td>\n",
              "      <td>0.879486</td>\n",
              "      <td>0.859434</td>\n",
              "      <td>1.121233</td>\n",
              "      <td>0.965460</td>\n",
              "      <td>0.974839</td>\n",
              "      <td>0.898467</td>\n",
              "      <td>1.064630</td>\n",
              "      <td>1.005797</td>\n",
              "    </tr>\n",
              "    <tr>\n",
              "      <th>19997</th>\n",
              "      <td>0.914842</td>\n",
              "      <td>0.856208</td>\n",
              "      <td>0.940224</td>\n",
              "      <td>1.083822</td>\n",
              "      <td>0.977326</td>\n",
              "      <td>0.854397</td>\n",
              "      <td>0.955765</td>\n",
              "      <td>1.127757</td>\n",
              "      <td>1.005424</td>\n",
              "      <td>0.989290</td>\n",
              "      <td>...</td>\n",
              "      <td>0.961555</td>\n",
              "      <td>0.860696</td>\n",
              "      <td>0.872420</td>\n",
              "      <td>0.902367</td>\n",
              "      <td>1.170768</td>\n",
              "      <td>0.942389</td>\n",
              "      <td>0.942617</td>\n",
              "      <td>0.834145</td>\n",
              "      <td>1.074168</td>\n",
              "      <td>0.990893</td>\n",
              "    </tr>\n",
              "    <tr>\n",
              "      <th>19998</th>\n",
              "      <td>0.881455</td>\n",
              "      <td>0.935094</td>\n",
              "      <td>0.942270</td>\n",
              "      <td>1.035600</td>\n",
              "      <td>1.003365</td>\n",
              "      <td>0.920872</td>\n",
              "      <td>0.952930</td>\n",
              "      <td>1.151631</td>\n",
              "      <td>0.863433</td>\n",
              "      <td>0.939638</td>\n",
              "      <td>...</td>\n",
              "      <td>0.898297</td>\n",
              "      <td>0.893952</td>\n",
              "      <td>0.913888</td>\n",
              "      <td>0.906701</td>\n",
              "      <td>1.157844</td>\n",
              "      <td>0.976933</td>\n",
              "      <td>0.979193</td>\n",
              "      <td>0.903136</td>\n",
              "      <td>1.060011</td>\n",
              "      <td>1.003754</td>\n",
              "    </tr>\n",
              "    <tr>\n",
              "      <th>19999</th>\n",
              "      <td>0.810684</td>\n",
              "      <td>0.861484</td>\n",
              "      <td>0.919543</td>\n",
              "      <td>1.076376</td>\n",
              "      <td>0.964247</td>\n",
              "      <td>0.943317</td>\n",
              "      <td>0.912372</td>\n",
              "      <td>1.134955</td>\n",
              "      <td>0.858544</td>\n",
              "      <td>0.961412</td>\n",
              "      <td>...</td>\n",
              "      <td>0.929174</td>\n",
              "      <td>0.924310</td>\n",
              "      <td>0.849455</td>\n",
              "      <td>0.898823</td>\n",
              "      <td>1.015505</td>\n",
              "      <td>1.030162</td>\n",
              "      <td>0.995825</td>\n",
              "      <td>0.963040</td>\n",
              "      <td>1.102519</td>\n",
              "      <td>1.015715</td>\n",
              "    </tr>\n",
              "    <tr>\n",
              "      <th>20000</th>\n",
              "      <td>0.891227</td>\n",
              "      <td>0.989809</td>\n",
              "      <td>1.018932</td>\n",
              "      <td>1.080056</td>\n",
              "      <td>0.929162</td>\n",
              "      <td>0.866715</td>\n",
              "      <td>1.004992</td>\n",
              "      <td>1.160603</td>\n",
              "      <td>0.971029</td>\n",
              "      <td>1.006898</td>\n",
              "      <td>...</td>\n",
              "      <td>0.894121</td>\n",
              "      <td>0.812422</td>\n",
              "      <td>0.895354</td>\n",
              "      <td>0.869029</td>\n",
              "      <td>1.086702</td>\n",
              "      <td>1.016895</td>\n",
              "      <td>0.932311</td>\n",
              "      <td>0.967356</td>\n",
              "      <td>1.099940</td>\n",
              "      <td>0.933377</td>\n",
              "    </tr>\n",
              "  </tbody>\n",
              "</table>\n",
              "<p>20001 rows × 512 columns</p>\n",
              "</div>\n",
              "      <button class=\"colab-df-convert\" onclick=\"convertToInteractive('df-9ca10ae0-e9f0-4154-9d52-319de250ece2')\"\n",
              "              title=\"Convert this dataframe to an interactive table.\"\n",
              "              style=\"display:none;\">\n",
              "        \n",
              "  <svg xmlns=\"http://www.w3.org/2000/svg\" height=\"24px\"viewBox=\"0 0 24 24\"\n",
              "       width=\"24px\">\n",
              "    <path d=\"M0 0h24v24H0V0z\" fill=\"none\"/>\n",
              "    <path d=\"M18.56 5.44l.94 2.06.94-2.06 2.06-.94-2.06-.94-.94-2.06-.94 2.06-2.06.94zm-11 1L8.5 8.5l.94-2.06 2.06-.94-2.06-.94L8.5 2.5l-.94 2.06-2.06.94zm10 10l.94 2.06.94-2.06 2.06-.94-2.06-.94-.94-2.06-.94 2.06-2.06.94z\"/><path d=\"M17.41 7.96l-1.37-1.37c-.4-.4-.92-.59-1.43-.59-.52 0-1.04.2-1.43.59L10.3 9.45l-7.72 7.72c-.78.78-.78 2.05 0 2.83L4 21.41c.39.39.9.59 1.41.59.51 0 1.02-.2 1.41-.59l7.78-7.78 2.81-2.81c.8-.78.8-2.07 0-2.86zM5.41 20L4 18.59l7.72-7.72 1.47 1.35L5.41 20z\"/>\n",
              "  </svg>\n",
              "      </button>\n",
              "      \n",
              "  <style>\n",
              "    .colab-df-container {\n",
              "      display:flex;\n",
              "      flex-wrap:wrap;\n",
              "      gap: 12px;\n",
              "    }\n",
              "\n",
              "    .colab-df-convert {\n",
              "      background-color: #E8F0FE;\n",
              "      border: none;\n",
              "      border-radius: 50%;\n",
              "      cursor: pointer;\n",
              "      display: none;\n",
              "      fill: #1967D2;\n",
              "      height: 32px;\n",
              "      padding: 0 0 0 0;\n",
              "      width: 32px;\n",
              "    }\n",
              "\n",
              "    .colab-df-convert:hover {\n",
              "      background-color: #E2EBFA;\n",
              "      box-shadow: 0px 1px 2px rgba(60, 64, 67, 0.3), 0px 1px 3px 1px rgba(60, 64, 67, 0.15);\n",
              "      fill: #174EA6;\n",
              "    }\n",
              "\n",
              "    [theme=dark] .colab-df-convert {\n",
              "      background-color: #3B4455;\n",
              "      fill: #D2E3FC;\n",
              "    }\n",
              "\n",
              "    [theme=dark] .colab-df-convert:hover {\n",
              "      background-color: #434B5C;\n",
              "      box-shadow: 0px 1px 3px 1px rgba(0, 0, 0, 0.15);\n",
              "      filter: drop-shadow(0px 1px 2px rgba(0, 0, 0, 0.3));\n",
              "      fill: #FFFFFF;\n",
              "    }\n",
              "  </style>\n",
              "\n",
              "      <script>\n",
              "        const buttonEl =\n",
              "          document.querySelector('#df-9ca10ae0-e9f0-4154-9d52-319de250ece2 button.colab-df-convert');\n",
              "        buttonEl.style.display =\n",
              "          google.colab.kernel.accessAllowed ? 'block' : 'none';\n",
              "\n",
              "        async function convertToInteractive(key) {\n",
              "          const element = document.querySelector('#df-9ca10ae0-e9f0-4154-9d52-319de250ece2');\n",
              "          const dataTable =\n",
              "            await google.colab.kernel.invokeFunction('convertToInteractive',\n",
              "                                                     [key], {});\n",
              "          if (!dataTable) return;\n",
              "\n",
              "          const docLinkHtml = 'Like what you see? Visit the ' +\n",
              "            '<a target=\"_blank\" href=https://colab.research.google.com/notebooks/data_table.ipynb>data table notebook</a>'\n",
              "            + ' to learn more about interactive tables.';\n",
              "          element.innerHTML = '';\n",
              "          dataTable['output_type'] = 'display_data';\n",
              "          await google.colab.output.renderOutput(dataTable, element);\n",
              "          const docLink = document.createElement('div');\n",
              "          docLink.innerHTML = docLinkHtml;\n",
              "          element.appendChild(docLink);\n",
              "        }\n",
              "      </script>\n",
              "    </div>\n",
              "  </div>\n",
              "  "
            ]
          },
          "metadata": {},
          "execution_count": 29
        }
      ]
    },
    {
      "cell_type": "code",
      "source": [
        "import pandas\n",
        "from sklearn.decomposition import PCA\n",
        "import numpy\n",
        "import matplotlib.pyplot as plot"
      ],
      "metadata": {
        "id": "j6bcXfJH4atW"
      },
      "execution_count": null,
      "outputs": []
    },
    {
      "cell_type": "code",
      "source": [
        "df = features\n",
        "df_normalized=(df - df.mean()) / df.std()\n",
        "\n",
        "pca = PCA(n_components = 0.8)\n",
        "pca.fit(df_normalized)\n",
        "\n",
        "# Reformat and view results\n",
        "# loadings = pandas.DataFrame(pca.components_.T,\n",
        "# columns=['PC%s' % _ for _ in range(len(df_normalized.columns))],\n",
        "# index=df.columns)\n",
        "# print(loadings)\n",
        "\n",
        "# plot.plot(pca.explained_variance_ratio_)\n",
        "# plot.ylabel('Explained Variance')\n",
        "# plot.xlabel('Components')\n",
        "# plot.show()"
      ],
      "metadata": {
        "colab": {
          "base_uri": "https://localhost:8080/"
        },
        "id": "0DgHfhpm3ljO",
        "outputId": "00f6498b-db3a-4a70-af01-73512ba6c459"
      },
      "execution_count": null,
      "outputs": [
        {
          "output_type": "execute_result",
          "data": {
            "text/plain": [
              "PCA(n_components=0.8)"
            ]
          },
          "metadata": {},
          "execution_count": 40
        }
      ]
    },
    {
      "cell_type": "code",
      "source": [
        "pca = PCA().fit(df_normalized)\n",
        "plt.plot(np.cumsum(pca.explained_variance_ratio_))\n",
        "plt.xlabel('number of components')\n",
        "plt.ylabel('cumulative explained variance');"
      ],
      "metadata": {
        "colab": {
          "base_uri": "https://localhost:8080/",
          "height": 279
        },
        "id": "2f16f9Z255na",
        "outputId": "f28ef82c-d1c7-4376-b5ac-b5f8ad486315"
      },
      "execution_count": null,
      "outputs": [
        {
          "output_type": "display_data",
          "data": {
            "text/plain": [
              "<Figure size 432x288 with 1 Axes>"
            ],
            "image/png": "[encoded data removed]"
          },
          "metadata": {
            "needs_background": "light"
          }
        }
      ]
    },
    {
      "cell_type": "code",
      "source": [
        "reduced = pca.transform(df_normalized)"
      ],
      "metadata": {
        "id": "neITEfSK4zje"
      },
      "execution_count": null,
      "outputs": []
    },
    {
      "cell_type": "code",
      "source": [
        "reduced_df = pd.DataFrame(data=reduced)\n",
        "reduced_df"
      ],
      "metadata": {
        "colab": {
          "base_uri": "https://localhost:8080/",
          "height": 483
        },
        "id": "oLj1bG-D46fc",
        "outputId": "5d3f55ea-4882-4b93-e5e5-a4e5a11bdde8"
      },
      "execution_count": null,
      "outputs": [
        {
          "output_type": "execute_result",
          "data": {
            "text/plain": [
              "            0         1         2         3         4         5         6    \\\n",
              "0     -3.937315 -2.567531 -1.376602 -0.813760 -0.790100  0.916467  1.483279   \n",
              "1     -1.815528 -0.932137  0.595863 -1.598759  0.910720  0.820447  1.265124   \n",
              "2     -2.859916 -0.769960  0.582185 -0.502405  0.503618  0.757827 -0.845083   \n",
              "3     -4.178899 -0.947058 -0.440886  1.740638  0.757726  0.208345 -0.311448   \n",
              "4     -1.280041 -0.603272 -0.004094  0.410148 -0.641354  0.544547  0.100590   \n",
              "...         ...       ...       ...       ...       ...       ...       ...   \n",
              "19996 -3.204887 -0.492565  0.297809  0.340203  0.164783  0.420414  0.740324   \n",
              "19997 -3.769390 -1.197640 -0.760727 -0.650794 -0.973760  2.079770  2.638554   \n",
              "19998 -3.345592 -1.012170 -0.166564 -2.994272 -0.832758  0.191588  1.060784   \n",
              "19999 -2.922024 -0.235143 -0.719404  0.515331  2.634371  0.659513  2.951838   \n",
              "20000 -4.217459 -1.981631 -1.700646  1.119673  1.174958  1.627632  2.914784   \n",
              "\n",
              "            7         8         9    ...       274       275       276  \\\n",
              "0      1.122138 -1.087391  1.164580  ... -0.599950  0.609310 -0.901150   \n",
              "1     -0.729233 -0.997868 -0.434817  ... -2.054521 -0.074171 -0.883354   \n",
              "2      0.422818  0.348705 -0.161861  ... -0.760554 -0.903880 -0.011446   \n",
              "3      0.155369 -0.793174  2.948411  ... -0.200347 -0.724900  0.547996   \n",
              "4     -0.461699 -2.788387 -0.766481  ... -0.182125 -0.685565  1.069598   \n",
              "...         ...       ...       ...  ...       ...       ...       ...   \n",
              "19996 -1.239995  0.535843  2.433091  ...  0.795038  0.445149  0.343294   \n",
              "19997 -0.966320  1.029263  1.144996  ...  0.037003  1.675251  0.067668   \n",
              "19998 -2.524555  0.735302  0.377010  ... -0.174888 -0.070872  0.775019   \n",
              "19999 -1.127043 -0.188093  1.727797  ...  0.070581  0.122328 -0.175168   \n",
              "20000  1.931423  1.097868 -0.188714  ...  0.433230 -0.407384  0.763373   \n",
              "\n",
              "            277       278       279       280       281       282       283  \n",
              "0     -0.628192  0.855657 -0.711888 -2.027327  0.701824 -0.400339  0.318574  \n",
              "1     -1.198534 -1.662925 -0.837245  1.641132  0.314230  0.637206  1.397718  \n",
              "2      0.775908  1.150895  1.345585 -0.665230 -0.181188 -0.155098 -2.496632  \n",
              "3     -0.777224 -1.327320  0.012508 -1.055311 -0.843231 -0.340563  2.137059  \n",
              "4      1.021115  0.461143 -0.311325 -0.914192 -0.241715  0.858423 -0.624972  \n",
              "...         ...       ...       ...       ...       ...       ...       ...  \n",
              "19996  0.748924  0.392942  1.363627  0.350984  0.066128 -0.218977 -1.624233  \n",
              "19997 -1.452564 -1.350467  0.697491 -2.213270  1.170563  0.151289  0.472465  \n",
              "19998  0.651244  1.023454 -0.953282 -0.128287  0.193186  2.099055 -1.336136  \n",
              "19999  0.555723  0.226966  1.864319  0.549531 -0.682646  0.347119 -0.884057  \n",
              "20000 -0.856753  0.873722  1.325557  0.383556  0.577964 -0.112817 -0.712550  \n",
              "\n",
              "[20001 rows x 284 columns]"
            ],
            "text/html": [
              "\n",
              "  <div id=\"df-50ee5e2b-adc5-4dd2-a53f-969ff247e25d\">\n",
              "    <div class=\"colab-df-container\">\n",
              "      <div>\n",
              "<style scoped>\n",
              "    .dataframe tbody tr th:only-of-type {\n",
              "        vertical-align: middle;\n",
              "    }\n",
              "\n",
              "    .dataframe tbody tr th {\n",
              "        vertical-align: top;\n",
              "    }\n",
              "\n",
              "    .dataframe thead th {\n",
              "        text-align: right;\n",
              "    }\n",
              "</style>\n",
              "<table border=\"1\" class=\"dataframe\">\n",
              "  <thead>\n",
              "    <tr style=\"text-align: right;\">\n",
              "      <th></th>\n",
              "      <th>0</th>\n",
              "      <th>1</th>\n",
              "      <th>2</th>\n",
              "      <th>3</th>\n",
              "      <th>4</th>\n",
              "      <th>5</th>\n",
              "      <th>6</th>\n",
              "      <th>7</th>\n",
              "      <th>8</th>\n",
              "      <th>9</th>\n",
              "      <th>...</th>\n",
              "      <th>274</th>\n",
              "      <th>275</th>\n",
              "      <th>276</th>\n",
              "      <th>277</th>\n",
              "      <th>278</th>\n",
              "      <th>279</th>\n",
              "      <th>280</th>\n",
              "      <th>281</th>\n",
              "      <th>282</th>\n",
              "      <th>283</th>\n",
              "    </tr>\n",
              "  </thead>\n",
              "  <tbody>\n",
              "    <tr>\n",
              "      <th>0</th>\n",
              "      <td>-3.937315</td>\n",
              "      <td>-2.567531</td>\n",
              "      <td>-1.376602</td>\n",
              "      <td>-0.813760</td>\n",
              "      <td>-0.790100</td>\n",
              "      <td>0.916467</td>\n",
              "      <td>1.483279</td>\n",
              "      <td>1.122138</td>\n",
              "      <td>-1.087391</td>\n",
              "      <td>1.164580</td>\n",
              "      <td>...</td>\n",
              "      <td>-0.599950</td>\n",
              "      <td>0.609310</td>\n",
              "      <td>-0.901150</td>\n",
              "      <td>-0.628192</td>\n",
              "      <td>0.855657</td>\n",
              "      <td>-0.711888</td>\n",
              "      <td>-2.027327</td>\n",
              "      <td>0.701824</td>\n",
              "      <td>-0.400339</td>\n",
              "      <td>0.318574</td>\n",
              "    </tr>\n",
              "    <tr>\n",
              "      <th>1</th>\n",
              "      <td>-1.815528</td>\n",
              "      <td>-0.932137</td>\n",
              "      <td>0.595863</td>\n",
              "      <td>-1.598759</td>\n",
              "      <td>0.910720</td>\n",
              "      <td>0.820447</td>\n",
              "      <td>1.265124</td>\n",
              "      <td>-0.729233</td>\n",
              "      <td>-0.997868</td>\n",
              "      <td>-0.434817</td>\n",
              "      <td>...</td>\n",
              "      <td>-2.054521</td>\n",
              "      <td>-0.074171</td>\n",
              "      <td>-0.883354</td>\n",
              "      <td>-1.198534</td>\n",
              "      <td>-1.662925</td>\n",
              "      <td>-0.837245</td>\n",
              "      <td>1.641132</td>\n",
              "      <td>0.314230</td>\n",
              "      <td>0.637206</td>\n",
              "      <td>1.397718</td>\n",
              "    </tr>\n",
              "    <tr>\n",
              "      <th>2</th>\n",
              "      <td>-2.859916</td>\n",
              "      <td>-0.769960</td>\n",
              "      <td>0.582185</td>\n",
              "      <td>-0.502405</td>\n",
              "      <td>0.503618</td>\n",
              "      <td>0.757827</td>\n",
              "      <td>-0.845083</td>\n",
              "      <td>0.422818</td>\n",
              "      <td>0.348705</td>\n",
              "      <td>-0.161861</td>\n",
              "      <td>...</td>\n",
              "      <td>-0.760554</td>\n",
              "      <td>-0.903880</td>\n",
              "      <td>-0.011446</td>\n",
              "      <td>0.775908</td>\n",
              "      <td>1.150895</td>\n",
              "      <td>1.345585</td>\n",
              "      <td>-0.665230</td>\n",
              "      <td>-0.181188</td>\n",
              "      <td>-0.155098</td>\n",
              "      <td>-2.496632</td>\n",
              "    </tr>\n",
              "    <tr>\n",
              "      <th>3</th>\n",
              "      <td>-4.178899</td>\n",
              "      <td>-0.947058</td>\n",
              "      <td>-0.440886</td>\n",
              "      <td>1.740638</td>\n",
              "      <td>0.757726</td>\n",
              "      <td>0.208345</td>\n",
              "      <td>-0.311448</td>\n",
              "      <td>0.155369</td>\n",
              "      <td>-0.793174</td>\n",
              "      <td>2.948411</td>\n",
              "      <td>...</td>\n",
              "      <td>-0.200347</td>\n",
              "      <td>-0.724900</td>\n",
              "      <td>0.547996</td>\n",
              "      <td>-0.777224</td>\n",
              "      <td>-1.327320</td>\n",
              "      <td>0.012508</td>\n",
              "      <td>-1.055311</td>\n",
              "      <td>-0.843231</td>\n",
              "      <td>-0.340563</td>\n",
              "      <td>2.137059</td>\n",
              "    </tr>\n",
              "    <tr>\n",
              "      <th>4</th>\n",
              "      <td>-1.280041</td>\n",
              "      <td>-0.603272</td>\n",
              "      <td>-0.004094</td>\n",
              "      <td>0.410148</td>\n",
              "      <td>-0.641354</td>\n",
              "      <td>0.544547</td>\n",
              "      <td>0.100590</td>\n",
              "      <td>-0.461699</td>\n",
              "      <td>-2.788387</td>\n",
              "      <td>-0.766481</td>\n",
              "      <td>...</td>\n",
              "      <td>-0.182125</td>\n",
              "      <td>-0.685565</td>\n",
              "      <td>1.069598</td>\n",
              "      <td>1.021115</td>\n",
              "      <td>0.461143</td>\n",
              "      <td>-0.311325</td>\n",
              "      <td>-0.914192</td>\n",
              "      <td>-0.241715</td>\n",
              "      <td>0.858423</td>\n",
              "      <td>-0.624972</td>\n",
              "    </tr>\n",
              "    <tr>\n",
              "      <th>...</th>\n",
              "      <td>...</td>\n",
              "      <td>...</td>\n",
              "      <td>...</td>\n",
              "      <td>...</td>\n",
              "      <td>...</td>\n",
              "      <td>...</td>\n",
              "      <td>...</td>\n",
              "      <td>...</td>\n",
              "      <td>...</td>\n",
              "      <td>...</td>\n",
              "      <td>...</td>\n",
              "      <td>...</td>\n",
              "      <td>...</td>\n",
              "      <td>...</td>\n",
              "      <td>...</td>\n",
              "      <td>...</td>\n",
              "      <td>...</td>\n",
              "      <td>...</td>\n",
              "      <td>...</td>\n",
              "      <td>...</td>\n",
              "      <td>...</td>\n",
              "    </tr>\n",
              "    <tr>\n",
              "      <th>19996</th>\n",
              "      <td>-3.204887</td>\n",
              "      <td>-0.492565</td>\n",
              "      <td>0.297809</td>\n",
              "      <td>0.340203</td>\n",
              "      <td>0.164783</td>\n",
              "      <td>0.420414</td>\n",
              "      <td>0.740324</td>\n",
              "      <td>-1.239995</td>\n",
              "      <td>0.535843</td>\n",
              "      <td>2.433091</td>\n",
              "      <td>...</td>\n",
              "      <td>0.795038</td>\n",
              "      <td>0.445149</td>\n",
              "      <td>0.343294</td>\n",
              "      <td>0.748924</td>\n",
              "      <td>0.392942</td>\n",
              "      <td>1.363627</td>\n",
              "      <td>0.350984</td>\n",
              "      <td>0.066128</td>\n",
              "      <td>-0.218977</td>\n",
              "      <td>-1.624233</td>\n",
              "    </tr>\n",
              "    <tr>\n",
              "      <th>19997</th>\n",
              "      <td>-3.769390</td>\n",
              "      <td>-1.197640</td>\n",
              "      <td>-0.760727</td>\n",
              "      <td>-0.650794</td>\n",
              "      <td>-0.973760</td>\n",
              "      <td>2.079770</td>\n",
              "      <td>2.638554</td>\n",
              "      <td>-0.966320</td>\n",
              "      <td>1.029263</td>\n",
              "      <td>1.144996</td>\n",
              "      <td>...</td>\n",
              "      <td>0.037003</td>\n",
              "      <td>1.675251</td>\n",
              "      <td>0.067668</td>\n",
              "      <td>-1.452564</td>\n",
              "      <td>-1.350467</td>\n",
              "      <td>0.697491</td>\n",
              "      <td>-2.213270</td>\n",
              "      <td>1.170563</td>\n",
              "      <td>0.151289</td>\n",
              "      <td>0.472465</td>\n",
              "    </tr>\n",
              "    <tr>\n",
              "      <th>19998</th>\n",
              "      <td>-3.345592</td>\n",
              "      <td>-1.012170</td>\n",
              "      <td>-0.166564</td>\n",
              "      <td>-2.994272</td>\n",
              "      <td>-0.832758</td>\n",
              "      <td>0.191588</td>\n",
              "      <td>1.060784</td>\n",
              "      <td>-2.524555</td>\n",
              "      <td>0.735302</td>\n",
              "      <td>0.377010</td>\n",
              "      <td>...</td>\n",
              "      <td>-0.174888</td>\n",
              "      <td>-0.070872</td>\n",
              "      <td>0.775019</td>\n",
              "      <td>0.651244</td>\n",
              "      <td>1.023454</td>\n",
              "      <td>-0.953282</td>\n",
              "      <td>-0.128287</td>\n",
              "      <td>0.193186</td>\n",
              "      <td>2.099055</td>\n",
              "      <td>-1.336136</td>\n",
              "    </tr>\n",
              "    <tr>\n",
              "      <th>19999</th>\n",
              "      <td>-2.922024</td>\n",
              "      <td>-0.235143</td>\n",
              "      <td>-0.719404</td>\n",
              "      <td>0.515331</td>\n",
              "      <td>2.634371</td>\n",
              "      <td>0.659513</td>\n",
              "      <td>2.951838</td>\n",
              "      <td>-1.127043</td>\n",
              "      <td>-0.188093</td>\n",
              "      <td>1.727797</td>\n",
              "      <td>...</td>\n",
              "      <td>0.070581</td>\n",
              "      <td>0.122328</td>\n",
              "      <td>-0.175168</td>\n",
              "      <td>0.555723</td>\n",
              "      <td>0.226966</td>\n",
              "      <td>1.864319</td>\n",
              "      <td>0.549531</td>\n",
              "      <td>-0.682646</td>\n",
              "      <td>0.347119</td>\n",
              "      <td>-0.884057</td>\n",
              "    </tr>\n",
              "    <tr>\n",
              "      <th>20000</th>\n",
              "      <td>-4.217459</td>\n",
              "      <td>-1.981631</td>\n",
              "      <td>-1.700646</td>\n",
              "      <td>1.119673</td>\n",
              "      <td>1.174958</td>\n",
              "      <td>1.627632</td>\n",
              "      <td>2.914784</td>\n",
              "      <td>1.931423</td>\n",
              "      <td>1.097868</td>\n",
              "      <td>-0.188714</td>\n",
              "      <td>...</td>\n",
              "      <td>0.433230</td>\n",
              "      <td>-0.407384</td>\n",
              "      <td>0.763373</td>\n",
              "      <td>-0.856753</td>\n",
              "      <td>0.873722</td>\n",
              "      <td>1.325557</td>\n",
              "      <td>0.383556</td>\n",
              "      <td>0.577964</td>\n",
              "      <td>-0.112817</td>\n",
              "      <td>-0.712550</td>\n",
              "    </tr>\n",
              "  </tbody>\n",
              "</table>\n",
              "<p>20001 rows × 284 columns</p>\n",
              "</div>\n",
              "      <button class=\"colab-df-convert\" onclick=\"convertToInteractive('df-50ee5e2b-adc5-4dd2-a53f-969ff247e25d')\"\n",
              "              title=\"Convert this dataframe to an interactive table.\"\n",
              "              style=\"display:none;\">\n",
              "        \n",
              "  <svg xmlns=\"http://www.w3.org/2000/svg\" height=\"24px\"viewBox=\"0 0 24 24\"\n",
              "       width=\"24px\">\n",
              "    <path d=\"M0 0h24v24H0V0z\" fill=\"none\"/>\n",
              "    <path d=\"M18.56 5.44l.94 2.06.94-2.06 2.06-.94-2.06-.94-.94-2.06-.94 2.06-2.06.94zm-11 1L8.5 8.5l.94-2.06 2.06-.94-2.06-.94L8.5 2.5l-.94 2.06-2.06.94zm10 10l.94 2.06.94-2.06 2.06-.94-2.06-.94-.94-2.06-.94 2.06-2.06.94z\"/><path d=\"M17.41 7.96l-1.37-1.37c-.4-.4-.92-.59-1.43-.59-.52 0-1.04.2-1.43.59L10.3 9.45l-7.72 7.72c-.78.78-.78 2.05 0 2.83L4 21.41c.39.39.9.59 1.41.59.51 0 1.02-.2 1.41-.59l7.78-7.78 2.81-2.81c.8-.78.8-2.07 0-2.86zM5.41 20L4 18.59l7.72-7.72 1.47 1.35L5.41 20z\"/>\n",
              "  </svg>\n",
              "      </button>\n",
              "      \n",
              "  <style>\n",
              "    .colab-df-container {\n",
              "      display:flex;\n",
              "      flex-wrap:wrap;\n",
              "      gap: 12px;\n",
              "    }\n",
              "\n",
              "    .colab-df-convert {\n",
              "      background-color: #E8F0FE;\n",
              "      border: none;\n",
              "      border-radius: 50%;\n",
              "      cursor: pointer;\n",
              "      display: none;\n",
              "      fill: #1967D2;\n",
              "      height: 32px;\n",
              "      padding: 0 0 0 0;\n",
              "      width: 32px;\n",
              "    }\n",
              "\n",
              "    .colab-df-convert:hover {\n",
              "      background-color: #E2EBFA;\n",
              "      box-shadow: 0px 1px 2px rgba(60, 64, 67, 0.3), 0px 1px 3px 1px rgba(60, 64, 67, 0.15);\n",
              "      fill: #174EA6;\n",
              "    }\n",
              "\n",
              "    [theme=dark] .colab-df-convert {\n",
              "      background-color: #3B4455;\n",
              "      fill: #D2E3FC;\n",
              "    }\n",
              "\n",
              "    [theme=dark] .colab-df-convert:hover {\n",
              "      background-color: #434B5C;\n",
              "      box-shadow: 0px 1px 3px 1px rgba(0, 0, 0, 0.15);\n",
              "      filter: drop-shadow(0px 1px 2px rgba(0, 0, 0, 0.3));\n",
              "      fill: #FFFFFF;\n",
              "    }\n",
              "  </style>\n",
              "\n",
              "      <script>\n",
              "        const buttonEl =\n",
              "          document.querySelector('#df-50ee5e2b-adc5-4dd2-a53f-969ff247e25d button.colab-df-convert');\n",
              "        buttonEl.style.display =\n",
              "          google.colab.kernel.accessAllowed ? 'block' : 'none';\n",
              "\n",
              "        async function convertToInteractive(key) {\n",
              "          const element = document.querySelector('#df-50ee5e2b-adc5-4dd2-a53f-969ff247e25d');\n",
              "          const dataTable =\n",
              "            await google.colab.kernel.invokeFunction('convertToInteractive',\n",
              "                                                     [key], {});\n",
              "          if (!dataTable) return;\n",
              "\n",
              "          const docLinkHtml = 'Like what you see? Visit the ' +\n",
              "            '<a target=\"_blank\" href=https://colab.research.google.com/notebooks/data_table.ipynb>data table notebook</a>'\n",
              "            + ' to learn more about interactive tables.';\n",
              "          element.innerHTML = '';\n",
              "          dataTable['output_type'] = 'display_data';\n",
              "          await google.colab.output.renderOutput(dataTable, element);\n",
              "          const docLink = document.createElement('div');\n",
              "          docLink.innerHTML = docLinkHtml;\n",
              "          element.appendChild(docLink);\n",
              "        }\n",
              "      </script>\n",
              "    </div>\n",
              "  </div>\n",
              "  "
            ]
          },
          "metadata": {},
          "execution_count": 42
        }
      ]
    },
    {
      "cell_type": "markdown",
      "source": [
        "#KNN"
      ],
      "metadata": {
        "id": "1Q0CJDZq8pMJ"
      }
    },
    {
      "cell_type": "code",
      "source": [
        "import numpy as np\n",
        "import pandas as pd\n",
        "import matplotlib.pyplot as plt\n",
        "from sklearn.neighbors import KNeighborsRegressor\n",
        "from sklearn.metrics import mean_squared_error\n",
        "from sklearn.metrics import r2_score\n",
        "from sklearn.model_selection import train_test_split\n",
        "%matplotlib inline"
      ],
      "metadata": {
        "id": "teTX7-pz8qCV"
      },
      "execution_count": null,
      "outputs": []
    },
    {
      "cell_type": "code",
      "source": [
        "y = Y[:20001]"
      ],
      "metadata": {
        "id": "G9zuG-u59gqt"
      },
      "execution_count": null,
      "outputs": []
    },
    {
      "cell_type": "code",
      "source": [
        "x_train,x_test,y_train,y_test=train_test_split(reduced, y,train_size=0.7)"
      ],
      "metadata": {
        "id": "ddusMCdG9B9b"
      },
      "execution_count": null,
      "outputs": []
    },
    {
      "cell_type": "code",
      "source": [
        "fig,ax=plt.subplots(figsize=(10,10))\n",
        "k_list=np.arange(1,80,1)\n",
        "knn_dict={}\n",
        "for i in k_list:\n",
        "    knn=KNeighborsRegressor(n_neighbors=int(i))\n",
        "    model_knn=knn.fit(x_train,y_train)\n",
        "    y_knn_pred=model_knn.predict(x_test)\n",
        "    mse=mean_squared_error(y_test,y_knn_pred)\n",
        "    knn_dict[i]=mse\n",
        "ax.plot(knn_dict.keys(),knn_dict.values())\n",
        "ax.set_xlabel('K-VALUE', fontsize=20)\n",
        "ax.set_ylabel('MSE' ,fontsize=20)\n",
        "ax.set_title('ELBOW PLOT' ,fontsize=28)"
      ],
      "metadata": {
        "id": "16_36vOU9ibq"
      },
      "execution_count": null,
      "outputs": []
    },
    {
      "cell_type": "code",
      "source": [
        "knn=KNeighborsRegressor(n_neighbors=int(np.sqrt(20000)))\n",
        "model_knn=knn.fit(x_train,y_train)\n",
        "y_knn_pred=model_knn.predict(x_test)\n",
        "mse=mean_squared_error(y_test,y_knn_pred)"
      ],
      "metadata": {
        "id": "Az0ajpck-jX1"
      },
      "execution_count": null,
      "outputs": []
    },
    {
      "cell_type": "code",
      "source": [
        "def mean_absolute_percentage_error(y_true, y_pred): \n",
        "    y_true, y_pred = np.array(y_true), np.array(y_pred)\n",
        "    return np.mean(np.abs((y_true - y_pred) / y_true)) * 100"
      ],
      "metadata": {
        "id": "xUGv_Saj_dP_"
      },
      "execution_count": null,
      "outputs": []
    },
    {
      "cell_type": "code",
      "source": [
        "mean_absolute_percentage_error(y_test, y_knn_pred)"
      ],
      "metadata": {
        "colab": {
          "base_uri": "https://localhost:8080/"
        },
        "id": "toBnlRMmAHO7",
        "outputId": "8410bb61-c33b-4544-ad77-0fc3cbffd7e7"
      },
      "execution_count": null,
      "outputs": [
        {
          "output_type": "execute_result",
          "data": {
            "text/plain": [
              "88.98419523127762"
            ]
          },
          "metadata": {},
          "execution_count": 68
        }
      ]
    },
    {
      "cell_type": "markdown",
      "source": [
        "#Gradient Boosting"
      ],
      "metadata": {
        "id": "bLIDrYJcCv5i"
      }
    },
    {
      "cell_type": "code",
      "source": [
        "from numpy import mean\n",
        "from numpy import std\n",
        "from sklearn.datasets import make_regression\n",
        "from sklearn.model_selection import cross_val_score\n",
        "from sklearn.model_selection import RepeatedStratifiedKFold\n",
        "from sklearn.model_selection import GridSearchCV\n",
        "from sklearn.ensemble import GradientBoostingRegressor\n",
        "from sklearn.metrics import mean_absolute_percentage_error"
      ],
      "metadata": {
        "id": "jj0S3x4OCy18"
      },
      "execution_count": 4,
      "outputs": []
    },
    {
      "cell_type": "code",
      "source": [
        "model = GradientBoostingRegressor()\n",
        "grid = dict()\n",
        "grid['n_estimators'] = [10, 50, 100]\n",
        "grid['learning_rate'] = [0.0001, 0.001, 0.01]\n",
        "grid['subsample'] = [0.5, 0.7, 1.0]\n",
        "grid['max_depth'] = [3, 7, 9]"
      ],
      "metadata": {
        "id": "_fdznKhyDCxf"
      },
      "execution_count": 3,
      "outputs": []
    },
    {
      "cell_type": "code",
      "source": [
        "cv = RepeatedStratifiedKFold(n_splits=10, n_repeats=3, random_state=1)\n",
        "grid_search = GridSearchCV(estimator=model, param_grid=grid, n_jobs=-1, cv=cv, scoring=mean_absolute_percentage_error)\n",
        "grid_result = grid_search.fit(reduced, y)"
      ],
      "metadata": {
        "id": "WKAcm_v6gEEN"
      },
      "execution_count": null,
      "outputs": []
    },
    {
      "cell_type": "code",
      "source": [
        "print(\"Best: %f using %s\" % (grid_result.best_score_, grid_result.best_params_))"
      ],
      "metadata": {
        "colab": {
          "base_uri": "https://localhost:8080/"
        },
        "id": "tpu30oaiiDQP",
        "outputId": "343d15ac-4246-4372-ffe6-9788cee391a1"
      },
      "execution_count": 5,
      "outputs": [
        {
          "output_type": "stream",
          "name": "stdout",
          "text": [
            "Best: 93.33334 using {'learning_rate': 0.1, 'max_depth': 7, 'n_estimators': 500, 'subsample': 0.7}\n"
          ]
        }
      ]
    },
    {
      "cell_type": "markdown",
      "source": [
        "##Random Forest"
      ],
      "metadata": {
        "id": "a95ghJ4Yilzs"
      }
    },
    {
      "cell_type": "code",
      "source": [
        "from sklearn.model_selection import RepeatedStratifiedKFold\n",
        "from sklearn.model_selection import GridSearchCV\n",
        "from sklearn.ensemble import RandomForestRegressor\n",
        "from sklearn.metrics import mean_absolute_percentage_error"
      ],
      "metadata": {
        "id": "QERt3vzBiou4"
      },
      "execution_count": 6,
      "outputs": []
    },
    {
      "cell_type": "code",
      "source": [
        "model = RandomForestRegressor()\n",
        "grid = dict()\n",
        "grid['n_estimators'] = [10, 50, 100]\n",
        "grid['max_features'] = [1, 3, 7]\n",
        "grid['max_samples'] = [0.1, 0.5, 1.0]\n",
        "grid['max_depth'] = [1, 3, 7]"
      ],
      "metadata": {
        "id": "heg6RC6sjHAM"
      },
      "execution_count": 7,
      "outputs": []
    },
    {
      "cell_type": "code",
      "source": [
        "cv = RepeatedStratifiedKFold(n_splits=10, n_repeats=3, random_state=1)\n",
        "grid_search = GridSearchCV(estimator=model, param_grid=grid, n_jobs=-1, cv=cv, scoring=mean_absolute_percentage_error)\n",
        "grid_result = grid_search.fit(reduced, y)"
      ],
      "metadata": {
        "id": "nnhquIBjko32"
      },
      "execution_count": null,
      "outputs": []
    },
    {
      "cell_type": "code",
      "source": [
        "print(\"Best: %f using %s\" % (grid_result.best_score_, grid_result.best_params_))"
      ],
      "metadata": {
        "colab": {
          "base_uri": "https://localhost:8080/"
        },
        "id": "7cIfdAtSktk_",
        "outputId": "45b0581b-3a68-4ef4-ed64-077446541eaa"
      },
      "execution_count": 11,
      "outputs": [
        {
          "output_type": "stream",
          "name": "stdout",
          "text": [
            "Best: 110.00021 using {'n_estimators: 100, 'max_features': 3, 'max_samples': 1.0, 'max_depth': 7}\n"
          ]
        }
      ]
    }
  ]
}